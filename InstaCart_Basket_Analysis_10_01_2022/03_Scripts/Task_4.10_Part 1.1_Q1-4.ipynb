{
 "cells": [
  {
   "cell_type": "markdown",
   "id": "80b6cef7",
   "metadata": {},
   "source": [
    "# Task 4.10: Part 1"
   ]
  },
  {
   "cell_type": "markdown",
   "id": "036dd7a4",
   "metadata": {},
   "source": [
    "## This script contains:\n",
    "### 1. Importing Libraries & Data\n",
    "### 2. Part 1 Questions 2-4 of Task 4.10"
   ]
  },
  {
   "cell_type": "markdown",
   "id": "d85bb203",
   "metadata": {},
   "source": [
    "## 1. Importing Libraries & Data"
   ]
  },
  {
   "cell_type": "markdown",
   "id": "cd43a06b",
   "metadata": {},
   "source": [
    "### Libraries"
   ]
  },
  {
   "cell_type": "code",
   "execution_count": 1,
   "id": "bbfca78d",
   "metadata": {},
   "outputs": [],
   "source": [
    "# Import Libraries\n",
    "import pandas as pd\n",
    "import numpy as np\n",
    "import os\n",
    "import matplotlib.pyplot as plt\n",
    "import seaborn as sns\n",
    "import scipy"
   ]
  },
  {
   "cell_type": "markdown",
   "id": "fe743f86",
   "metadata": {},
   "source": [
    "### Data"
   ]
  },
  {
   "cell_type": "code",
   "execution_count": 2,
   "id": "9f9ce31c",
   "metadata": {},
   "outputs": [],
   "source": [
    "# Create path\n",
    "path = r'C:\\Users\\botha\\Documents\\Data Analytics\\Acheivement 4\\InstaCart_Basket_Analysis_10_01_2022'"
   ]
  },
  {
   "cell_type": "code",
   "execution_count": 3,
   "id": "c12666c3",
   "metadata": {},
   "outputs": [],
   "source": [
    "# Import dataframe\n",
    "ords_prods_cust1 = pd.read_pickle(os.path.join(path, '02_Data', '02_Prepared_Data', 'ords_prods_cust_cln_wrngl.pkl'))"
   ]
  },
  {
   "cell_type": "code",
   "execution_count": 5,
   "id": "8c93871f",
   "metadata": {},
   "outputs": [
    {
     "data": {
      "text/html": [
       "<div>\n",
       "<style scoped>\n",
       "    .dataframe tbody tr th:only-of-type {\n",
       "        vertical-align: middle;\n",
       "    }\n",
       "\n",
       "    .dataframe tbody tr th {\n",
       "        vertical-align: top;\n",
       "    }\n",
       "\n",
       "    .dataframe thead th {\n",
       "        text-align: right;\n",
       "    }\n",
       "</style>\n",
       "<table border=\"1\" class=\"dataframe\">\n",
       "  <thead>\n",
       "    <tr style=\"text-align: right;\">\n",
       "      <th></th>\n",
       "      <th>user_id</th>\n",
       "      <th>First Name</th>\n",
       "      <th>Surname</th>\n",
       "      <th>gender</th>\n",
       "      <th>state</th>\n",
       "      <th>age</th>\n",
       "      <th>date_joined</th>\n",
       "      <th>n_dependants</th>\n",
       "      <th>fam_status</th>\n",
       "      <th>income</th>\n",
       "      <th>...</th>\n",
       "      <th>days_since_prior_order</th>\n",
       "      <th>price_range_loc</th>\n",
       "      <th>busiest_day</th>\n",
       "      <th>busiest_period_of_day</th>\n",
       "      <th>max_order</th>\n",
       "      <th>loyalty_flag</th>\n",
       "      <th>avg_spending</th>\n",
       "      <th>spending_flag</th>\n",
       "      <th>order_frequency</th>\n",
       "      <th>frequency_flag</th>\n",
       "    </tr>\n",
       "  </thead>\n",
       "  <tbody>\n",
       "    <tr>\n",
       "      <th>0</th>\n",
       "      <td>26711</td>\n",
       "      <td>Deborah</td>\n",
       "      <td>Esquivel</td>\n",
       "      <td>Female</td>\n",
       "      <td>Missouri</td>\n",
       "      <td>48</td>\n",
       "      <td>2017-01-01</td>\n",
       "      <td>3</td>\n",
       "      <td>married</td>\n",
       "      <td>165665</td>\n",
       "      <td>...</td>\n",
       "      <td>30.0</td>\n",
       "      <td>Mid-range Product</td>\n",
       "      <td>Busiest days</td>\n",
       "      <td>Most Orders</td>\n",
       "      <td>8</td>\n",
       "      <td>New customer</td>\n",
       "      <td>7.988889</td>\n",
       "      <td>Low spender</td>\n",
       "      <td>19.0</td>\n",
       "      <td>Regular customer</td>\n",
       "    </tr>\n",
       "    <tr>\n",
       "      <th>1</th>\n",
       "      <td>26711</td>\n",
       "      <td>Deborah</td>\n",
       "      <td>Esquivel</td>\n",
       "      <td>Female</td>\n",
       "      <td>Missouri</td>\n",
       "      <td>48</td>\n",
       "      <td>2017-01-01</td>\n",
       "      <td>3</td>\n",
       "      <td>married</td>\n",
       "      <td>165665</td>\n",
       "      <td>...</td>\n",
       "      <td>11.0</td>\n",
       "      <td>Mid-range Product</td>\n",
       "      <td>Regularly busy</td>\n",
       "      <td>Most Orders</td>\n",
       "      <td>8</td>\n",
       "      <td>New customer</td>\n",
       "      <td>7.988889</td>\n",
       "      <td>Low spender</td>\n",
       "      <td>19.0</td>\n",
       "      <td>Regular customer</td>\n",
       "    </tr>\n",
       "    <tr>\n",
       "      <th>2</th>\n",
       "      <td>26711</td>\n",
       "      <td>Deborah</td>\n",
       "      <td>Esquivel</td>\n",
       "      <td>Female</td>\n",
       "      <td>Missouri</td>\n",
       "      <td>48</td>\n",
       "      <td>2017-01-01</td>\n",
       "      <td>3</td>\n",
       "      <td>married</td>\n",
       "      <td>165665</td>\n",
       "      <td>...</td>\n",
       "      <td>10.0</td>\n",
       "      <td>Mid-range Product</td>\n",
       "      <td>Busiest days</td>\n",
       "      <td>Most Orders</td>\n",
       "      <td>8</td>\n",
       "      <td>New customer</td>\n",
       "      <td>7.988889</td>\n",
       "      <td>Low spender</td>\n",
       "      <td>19.0</td>\n",
       "      <td>Regular customer</td>\n",
       "    </tr>\n",
       "    <tr>\n",
       "      <th>3</th>\n",
       "      <td>26711</td>\n",
       "      <td>Deborah</td>\n",
       "      <td>Esquivel</td>\n",
       "      <td>Female</td>\n",
       "      <td>Missouri</td>\n",
       "      <td>48</td>\n",
       "      <td>2017-01-01</td>\n",
       "      <td>3</td>\n",
       "      <td>married</td>\n",
       "      <td>165665</td>\n",
       "      <td>...</td>\n",
       "      <td>0.0</td>\n",
       "      <td>Low-range Product</td>\n",
       "      <td>Regularly busy</td>\n",
       "      <td>Most Orders</td>\n",
       "      <td>8</td>\n",
       "      <td>New customer</td>\n",
       "      <td>7.988889</td>\n",
       "      <td>Low spender</td>\n",
       "      <td>19.0</td>\n",
       "      <td>Regular customer</td>\n",
       "    </tr>\n",
       "    <tr>\n",
       "      <th>4</th>\n",
       "      <td>26711</td>\n",
       "      <td>Deborah</td>\n",
       "      <td>Esquivel</td>\n",
       "      <td>Female</td>\n",
       "      <td>Missouri</td>\n",
       "      <td>48</td>\n",
       "      <td>2017-01-01</td>\n",
       "      <td>3</td>\n",
       "      <td>married</td>\n",
       "      <td>165665</td>\n",
       "      <td>...</td>\n",
       "      <td>30.0</td>\n",
       "      <td>Low-range Product</td>\n",
       "      <td>Least busy days</td>\n",
       "      <td>Most Orders</td>\n",
       "      <td>8</td>\n",
       "      <td>New customer</td>\n",
       "      <td>7.988889</td>\n",
       "      <td>Low spender</td>\n",
       "      <td>19.0</td>\n",
       "      <td>Regular customer</td>\n",
       "    </tr>\n",
       "  </tbody>\n",
       "</table>\n",
       "<p>5 rows × 29 columns</p>\n",
       "</div>"
      ],
      "text/plain": [
       "  user_id First Name   Surname  gender     state  age date_joined  \\\n",
       "0   26711    Deborah  Esquivel  Female  Missouri   48  2017-01-01   \n",
       "1   26711    Deborah  Esquivel  Female  Missouri   48  2017-01-01   \n",
       "2   26711    Deborah  Esquivel  Female  Missouri   48  2017-01-01   \n",
       "3   26711    Deborah  Esquivel  Female  Missouri   48  2017-01-01   \n",
       "4   26711    Deborah  Esquivel  Female  Missouri   48  2017-01-01   \n",
       "\n",
       "   n_dependants fam_status  income  ... days_since_prior_order  \\\n",
       "0             3    married  165665  ...                   30.0   \n",
       "1             3    married  165665  ...                   11.0   \n",
       "2             3    married  165665  ...                   10.0   \n",
       "3             3    married  165665  ...                    0.0   \n",
       "4             3    married  165665  ...                   30.0   \n",
       "\n",
       "     price_range_loc      busiest_day busiest_period_of_day  max_order  \\\n",
       "0  Mid-range Product     Busiest days           Most Orders          8   \n",
       "1  Mid-range Product   Regularly busy           Most Orders          8   \n",
       "2  Mid-range Product     Busiest days           Most Orders          8   \n",
       "3  Low-range Product   Regularly busy           Most Orders          8   \n",
       "4  Low-range Product  Least busy days           Most Orders          8   \n",
       "\n",
       "   loyalty_flag  avg_spending  spending_flag  order_frequency  \\\n",
       "0  New customer      7.988889    Low spender             19.0   \n",
       "1  New customer      7.988889    Low spender             19.0   \n",
       "2  New customer      7.988889    Low spender             19.0   \n",
       "3  New customer      7.988889    Low spender             19.0   \n",
       "4  New customer      7.988889    Low spender             19.0   \n",
       "\n",
       "     frequency_flag  \n",
       "0  Regular customer  \n",
       "1  Regular customer  \n",
       "2  Regular customer  \n",
       "3  Regular customer  \n",
       "4  Regular customer  \n",
       "\n",
       "[5 rows x 29 columns]"
      ]
     },
     "execution_count": 5,
     "metadata": {},
     "output_type": "execute_result"
    }
   ],
   "source": [
    "ords_prods_cust1.head()"
   ]
  },
  {
   "cell_type": "code",
   "execution_count": 7,
   "id": "2927ca36",
   "metadata": {
    "scrolled": false
   },
   "outputs": [
    {
     "data": {
      "text/plain": [
       "(32404859, 29)"
      ]
     },
     "execution_count": 7,
     "metadata": {},
     "output_type": "execute_result"
    }
   ],
   "source": [
    "ords_prods_cust1.shape"
   ]
  },
  {
   "cell_type": "markdown",
   "id": "ffdb1c6e",
   "metadata": {},
   "source": [
    "## Part 1"
   ]
  },
  {
   "cell_type": "markdown",
   "id": "36397064",
   "metadata": {},
   "source": [
    "### Question 2 - Dealing with PII Columns"
   ]
  },
  {
   "cell_type": "code",
   "execution_count": 8,
   "id": "a293f117",
   "metadata": {},
   "outputs": [],
   "source": [
    "# Drop PII columns\n",
    "ords_prods_cust_new = ords_prods_cust1.drop(columns = ['First Name', 'Surname'])"
   ]
  },
  {
   "cell_type": "code",
   "execution_count": 9,
   "id": "25bad10a",
   "metadata": {},
   "outputs": [
    {
     "data": {
      "text/html": [
       "<div>\n",
       "<style scoped>\n",
       "    .dataframe tbody tr th:only-of-type {\n",
       "        vertical-align: middle;\n",
       "    }\n",
       "\n",
       "    .dataframe tbody tr th {\n",
       "        vertical-align: top;\n",
       "    }\n",
       "\n",
       "    .dataframe thead th {\n",
       "        text-align: right;\n",
       "    }\n",
       "</style>\n",
       "<table border=\"1\" class=\"dataframe\">\n",
       "  <thead>\n",
       "    <tr style=\"text-align: right;\">\n",
       "      <th></th>\n",
       "      <th>user_id</th>\n",
       "      <th>gender</th>\n",
       "      <th>state</th>\n",
       "      <th>age</th>\n",
       "      <th>date_joined</th>\n",
       "      <th>n_dependants</th>\n",
       "      <th>fam_status</th>\n",
       "      <th>income</th>\n",
       "      <th>product_id</th>\n",
       "      <th>product_name</th>\n",
       "      <th>...</th>\n",
       "      <th>days_since_prior_order</th>\n",
       "      <th>price_range_loc</th>\n",
       "      <th>busiest_day</th>\n",
       "      <th>busiest_period_of_day</th>\n",
       "      <th>max_order</th>\n",
       "      <th>loyalty_flag</th>\n",
       "      <th>avg_spending</th>\n",
       "      <th>spending_flag</th>\n",
       "      <th>order_frequency</th>\n",
       "      <th>frequency_flag</th>\n",
       "    </tr>\n",
       "  </thead>\n",
       "  <tbody>\n",
       "    <tr>\n",
       "      <th>0</th>\n",
       "      <td>26711</td>\n",
       "      <td>Female</td>\n",
       "      <td>Missouri</td>\n",
       "      <td>48</td>\n",
       "      <td>2017-01-01</td>\n",
       "      <td>3</td>\n",
       "      <td>married</td>\n",
       "      <td>165665</td>\n",
       "      <td>196</td>\n",
       "      <td>Soda</td>\n",
       "      <td>...</td>\n",
       "      <td>30.0</td>\n",
       "      <td>Mid-range Product</td>\n",
       "      <td>Busiest days</td>\n",
       "      <td>Most Orders</td>\n",
       "      <td>8</td>\n",
       "      <td>New customer</td>\n",
       "      <td>7.988889</td>\n",
       "      <td>Low spender</td>\n",
       "      <td>19.0</td>\n",
       "      <td>Regular customer</td>\n",
       "    </tr>\n",
       "    <tr>\n",
       "      <th>1</th>\n",
       "      <td>26711</td>\n",
       "      <td>Female</td>\n",
       "      <td>Missouri</td>\n",
       "      <td>48</td>\n",
       "      <td>2017-01-01</td>\n",
       "      <td>3</td>\n",
       "      <td>married</td>\n",
       "      <td>165665</td>\n",
       "      <td>196</td>\n",
       "      <td>Soda</td>\n",
       "      <td>...</td>\n",
       "      <td>11.0</td>\n",
       "      <td>Mid-range Product</td>\n",
       "      <td>Regularly busy</td>\n",
       "      <td>Most Orders</td>\n",
       "      <td>8</td>\n",
       "      <td>New customer</td>\n",
       "      <td>7.988889</td>\n",
       "      <td>Low spender</td>\n",
       "      <td>19.0</td>\n",
       "      <td>Regular customer</td>\n",
       "    </tr>\n",
       "    <tr>\n",
       "      <th>2</th>\n",
       "      <td>26711</td>\n",
       "      <td>Female</td>\n",
       "      <td>Missouri</td>\n",
       "      <td>48</td>\n",
       "      <td>2017-01-01</td>\n",
       "      <td>3</td>\n",
       "      <td>married</td>\n",
       "      <td>165665</td>\n",
       "      <td>196</td>\n",
       "      <td>Soda</td>\n",
       "      <td>...</td>\n",
       "      <td>10.0</td>\n",
       "      <td>Mid-range Product</td>\n",
       "      <td>Busiest days</td>\n",
       "      <td>Most Orders</td>\n",
       "      <td>8</td>\n",
       "      <td>New customer</td>\n",
       "      <td>7.988889</td>\n",
       "      <td>Low spender</td>\n",
       "      <td>19.0</td>\n",
       "      <td>Regular customer</td>\n",
       "    </tr>\n",
       "    <tr>\n",
       "      <th>3</th>\n",
       "      <td>26711</td>\n",
       "      <td>Female</td>\n",
       "      <td>Missouri</td>\n",
       "      <td>48</td>\n",
       "      <td>2017-01-01</td>\n",
       "      <td>3</td>\n",
       "      <td>married</td>\n",
       "      <td>165665</td>\n",
       "      <td>6184</td>\n",
       "      <td>Clementines</td>\n",
       "      <td>...</td>\n",
       "      <td>0.0</td>\n",
       "      <td>Low-range Product</td>\n",
       "      <td>Regularly busy</td>\n",
       "      <td>Most Orders</td>\n",
       "      <td>8</td>\n",
       "      <td>New customer</td>\n",
       "      <td>7.988889</td>\n",
       "      <td>Low spender</td>\n",
       "      <td>19.0</td>\n",
       "      <td>Regular customer</td>\n",
       "    </tr>\n",
       "    <tr>\n",
       "      <th>4</th>\n",
       "      <td>26711</td>\n",
       "      <td>Female</td>\n",
       "      <td>Missouri</td>\n",
       "      <td>48</td>\n",
       "      <td>2017-01-01</td>\n",
       "      <td>3</td>\n",
       "      <td>married</td>\n",
       "      <td>165665</td>\n",
       "      <td>6184</td>\n",
       "      <td>Clementines</td>\n",
       "      <td>...</td>\n",
       "      <td>30.0</td>\n",
       "      <td>Low-range Product</td>\n",
       "      <td>Least busy days</td>\n",
       "      <td>Most Orders</td>\n",
       "      <td>8</td>\n",
       "      <td>New customer</td>\n",
       "      <td>7.988889</td>\n",
       "      <td>Low spender</td>\n",
       "      <td>19.0</td>\n",
       "      <td>Regular customer</td>\n",
       "    </tr>\n",
       "  </tbody>\n",
       "</table>\n",
       "<p>5 rows × 27 columns</p>\n",
       "</div>"
      ],
      "text/plain": [
       "  user_id  gender     state  age date_joined  n_dependants fam_status  income  \\\n",
       "0   26711  Female  Missouri   48  2017-01-01             3    married  165665   \n",
       "1   26711  Female  Missouri   48  2017-01-01             3    married  165665   \n",
       "2   26711  Female  Missouri   48  2017-01-01             3    married  165665   \n",
       "3   26711  Female  Missouri   48  2017-01-01             3    married  165665   \n",
       "4   26711  Female  Missouri   48  2017-01-01             3    married  165665   \n",
       "\n",
       "  product_id product_name  ...  days_since_prior_order    price_range_loc  \\\n",
       "0        196         Soda  ...                    30.0  Mid-range Product   \n",
       "1        196         Soda  ...                    11.0  Mid-range Product   \n",
       "2        196         Soda  ...                    10.0  Mid-range Product   \n",
       "3       6184  Clementines  ...                     0.0  Low-range Product   \n",
       "4       6184  Clementines  ...                    30.0  Low-range Product   \n",
       "\n",
       "       busiest_day busiest_period_of_day  max_order  loyalty_flag  \\\n",
       "0     Busiest days           Most Orders          8  New customer   \n",
       "1   Regularly busy           Most Orders          8  New customer   \n",
       "2     Busiest days           Most Orders          8  New customer   \n",
       "3   Regularly busy           Most Orders          8  New customer   \n",
       "4  Least busy days           Most Orders          8  New customer   \n",
       "\n",
       "   avg_spending  spending_flag order_frequency    frequency_flag  \n",
       "0      7.988889    Low spender            19.0  Regular customer  \n",
       "1      7.988889    Low spender            19.0  Regular customer  \n",
       "2      7.988889    Low spender            19.0  Regular customer  \n",
       "3      7.988889    Low spender            19.0  Regular customer  \n",
       "4      7.988889    Low spender            19.0  Regular customer  \n",
       "\n",
       "[5 rows x 27 columns]"
      ]
     },
     "execution_count": 9,
     "metadata": {},
     "output_type": "execute_result"
    }
   ],
   "source": [
    "ords_prods_cust_new.head()"
   ]
  },
  {
   "cell_type": "markdown",
   "id": "34db632f",
   "metadata": {},
   "source": [
    "### Question 3"
   ]
  },
  {
   "cell_type": "code",
   "execution_count": 10,
   "id": "d30bd4ab",
   "metadata": {},
   "outputs": [],
   "source": [
    "# Create for-loop for state Regions\n",
    "result = []\n",
    "\n",
    "for value in ords_prods_cust_new['state']:\n",
    "  if value in ['Maine', 'New Hampshire', 'Vermont', 'Massachusetts', 'Rhode Island', 'Connecticut', 'New York', 'Pennsylvania', 'New Jersey']:\n",
    "    result.append('Northeast')\n",
    "  elif value in ['Wisconsin', 'Michigan', 'Illinois', 'Indiana', 'Ohio', 'North Dakota', 'South Dakota', 'Nebraska', 'Kansas', 'Minnesota', 'Iowa', 'Missouri']:\n",
    "    result.append('Midwest')\n",
    "  elif value in ['Delaware', 'Maryland', 'District of Columbia', 'Virginia', 'West Virginia', 'North Carolina', 'South Carolina', 'Georgia', 'Florida', 'Kentucky', 'Tennessee', 'Mississippi', 'Alabama', 'Oklahoma', 'Texas', 'Arkansas', 'Louisiana']:\n",
    "    result.append('South')\n",
    "  else:\n",
    "    result.append('West')"
   ]
  },
  {
   "cell_type": "code",
   "execution_count": 11,
   "id": "18fb19f5",
   "metadata": {},
   "outputs": [],
   "source": [
    "# Create new column/variable for for-loop result\n",
    "ords_prods_cust_new['region'] = result"
   ]
  },
  {
   "cell_type": "code",
   "execution_count": 12,
   "id": "5f2910a4",
   "metadata": {},
   "outputs": [],
   "source": [
    "# b. Create crosstab to analyse spending habits in different regions\n",
    "crosstab = pd.crosstab(ords_prods_cust_new['region'], ords_prods_cust_new['spending_flag'], dropna = False)"
   ]
  },
  {
   "cell_type": "code",
   "execution_count": 13,
   "id": "c9b83fc8",
   "metadata": {},
   "outputs": [
    {
     "data": {
      "text/html": [
       "<div>\n",
       "<style scoped>\n",
       "    .dataframe tbody tr th:only-of-type {\n",
       "        vertical-align: middle;\n",
       "    }\n",
       "\n",
       "    .dataframe tbody tr th {\n",
       "        vertical-align: top;\n",
       "    }\n",
       "\n",
       "    .dataframe thead th {\n",
       "        text-align: right;\n",
       "    }\n",
       "</style>\n",
       "<table border=\"1\" class=\"dataframe\">\n",
       "  <thead>\n",
       "    <tr style=\"text-align: right;\">\n",
       "      <th>spending_flag</th>\n",
       "      <th>High spender</th>\n",
       "      <th>Low spender</th>\n",
       "    </tr>\n",
       "    <tr>\n",
       "      <th>region</th>\n",
       "      <th></th>\n",
       "      <th></th>\n",
       "    </tr>\n",
       "  </thead>\n",
       "  <tbody>\n",
       "    <tr>\n",
       "      <th>Midwest</th>\n",
       "      <td>155975</td>\n",
       "      <td>7441350</td>\n",
       "    </tr>\n",
       "    <tr>\n",
       "      <th>Northeast</th>\n",
       "      <td>108225</td>\n",
       "      <td>5614511</td>\n",
       "    </tr>\n",
       "    <tr>\n",
       "      <th>South</th>\n",
       "      <td>209691</td>\n",
       "      <td>10582194</td>\n",
       "    </tr>\n",
       "    <tr>\n",
       "      <th>West</th>\n",
       "      <td>160354</td>\n",
       "      <td>8132559</td>\n",
       "    </tr>\n",
       "  </tbody>\n",
       "</table>\n",
       "</div>"
      ],
      "text/plain": [
       "spending_flag  High spender  Low spender\n",
       "region                                  \n",
       "Midwest              155975      7441350\n",
       "Northeast            108225      5614511\n",
       "South                209691     10582194\n",
       "West                 160354      8132559"
      ]
     },
     "execution_count": 13,
     "metadata": {},
     "output_type": "execute_result"
    }
   ],
   "source": [
    "crosstab"
   ]
  },
  {
   "cell_type": "markdown",
   "id": "ae907499",
   "metadata": {},
   "source": [
    "I would say, when looking at the total number of spenders (low + high), the proportion of high spenders in the Northeast region is the highest, since they have the least in total but not much less \"high spenders\" than the other regions. All regions have more \"low spenders\" than \"high spenders\"."
   ]
  },
  {
   "cell_type": "code",
   "execution_count": 14,
   "id": "68ee7866",
   "metadata": {},
   "outputs": [],
   "source": [
    "crosstab.to_clipboard()"
   ]
  },
  {
   "cell_type": "markdown",
   "id": "bdb368a4",
   "metadata": {},
   "source": [
    "### Question 4"
   ]
  },
  {
   "cell_type": "code",
   "execution_count": 15,
   "id": "9ba7a4f9",
   "metadata": {},
   "outputs": [],
   "source": [
    "# Create Exclusion flag\n",
    "ords_prods_cust_new.loc[ords_prods_cust_new['max_order'] <5 , 'exclusion_flag'] = 'Exclude'\n",
    "ords_prods_cust_new.loc[ords_prods_cust_new['max_order'] >=5 , 'exclusion_flag'] = 'Include'"
   ]
  },
  {
   "cell_type": "code",
   "execution_count": 16,
   "id": "f595ceed",
   "metadata": {},
   "outputs": [
    {
     "data": {
      "text/plain": [
       "Include    30964564\n",
       "Exclude     1440295\n",
       "Name: exclusion_flag, dtype: int64"
      ]
     },
     "execution_count": 16,
     "metadata": {},
     "output_type": "execute_result"
    }
   ],
   "source": [
    "# Check new flag\n",
    "ords_prods_cust_new['exclusion_flag'].value_counts()"
   ]
  },
  {
   "cell_type": "code",
   "execution_count": 17,
   "id": "1bc02c6c",
   "metadata": {},
   "outputs": [],
   "source": [
    "# Drop 'Exclude' Records\n",
    "ords_prods_cust_excl = ords_prods_cust_new[ords_prods_cust_new['exclusion_flag'] != 'Exclude']"
   ]
  },
  {
   "cell_type": "code",
   "execution_count": 18,
   "id": "2f09d884",
   "metadata": {},
   "outputs": [
    {
     "data": {
      "text/plain": [
       "Include    30964564\n",
       "Name: exclusion_flag, dtype: int64"
      ]
     },
     "execution_count": 18,
     "metadata": {},
     "output_type": "execute_result"
    }
   ],
   "source": [
    "# Check new df\n",
    "ords_prods_cust_excl['exclusion_flag'].value_counts()"
   ]
  },
  {
   "cell_type": "code",
   "execution_count": 19,
   "id": "612632d5",
   "metadata": {},
   "outputs": [],
   "source": [
    "# Export new df\n",
    "ords_prods_cust_excl.to_pickle(os.path.join(path, '02_Data', '02_Prepared_Data', 'orders_products_customers_excl.pkl'))"
   ]
  },
  {
   "cell_type": "code",
   "execution_count": null,
   "id": "7a0e4214",
   "metadata": {},
   "outputs": [],
   "source": []
  }
 ],
 "metadata": {
  "kernelspec": {
   "display_name": "Python 3 (ipykernel)",
   "language": "python",
   "name": "python3"
  },
  "language_info": {
   "codemirror_mode": {
    "name": "ipython",
    "version": 3
   },
   "file_extension": ".py",
   "mimetype": "text/x-python",
   "name": "python",
   "nbconvert_exporter": "python",
   "pygments_lexer": "ipython3",
   "version": "3.9.7"
  }
 },
 "nbformat": 4,
 "nbformat_minor": 5
}
