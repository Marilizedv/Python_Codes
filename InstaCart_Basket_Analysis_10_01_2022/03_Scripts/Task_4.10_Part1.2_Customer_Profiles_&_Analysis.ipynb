{
 "cells": [
  {
   "cell_type": "markdown",
   "id": "80b6cef7",
   "metadata": {},
   "source": [
    "# Task 4.10: Part 1"
   ]
  },
  {
   "cell_type": "markdown",
   "id": "036dd7a4",
   "metadata": {},
   "source": [
    "## This script contains:\n",
    "### 1. Importing Libraries & Data\n",
    "### 2. Part 1 Q 5-10 of Task 4.10"
   ]
  },
  {
   "cell_type": "markdown",
   "id": "d85bb203",
   "metadata": {},
   "source": [
    "## 1. Importing Libraries & Data"
   ]
  },
  {
   "cell_type": "markdown",
   "id": "cd43a06b",
   "metadata": {},
   "source": [
    "### Libraries"
   ]
  },
  {
   "cell_type": "code",
   "execution_count": 1,
   "id": "bbfca78d",
   "metadata": {},
   "outputs": [],
   "source": [
    "# Import Libraries\n",
    "import pandas as pd\n",
    "import numpy as np\n",
    "import os\n",
    "import matplotlib.pyplot as plt\n",
    "import seaborn as sns\n",
    "import scipy"
   ]
  },
  {
   "cell_type": "markdown",
   "id": "fe743f86",
   "metadata": {},
   "source": [
    "### Data"
   ]
  },
  {
   "cell_type": "code",
   "execution_count": 2,
   "id": "9f9ce31c",
   "metadata": {},
   "outputs": [],
   "source": [
    "# Create path\n",
    "path = r'C:\\Users\\M de Villiers\\Desktop\\Data Analytics\\Acheivement 4\\InstaCart_Basket_Analysis_10_01_2022'"
   ]
  },
  {
   "cell_type": "code",
   "execution_count": 3,
   "id": "c12666c3",
   "metadata": {},
   "outputs": [],
   "source": [
    "# Import dataframe\n",
    "final_df = pd.read_pickle(os.path.join(path, '02_Data', '02_Prepared_Data', 'orders_products_customers_excl.pkl'))"
   ]
  },
  {
   "cell_type": "code",
   "execution_count": 4,
   "id": "8c93871f",
   "metadata": {},
   "outputs": [
    {
     "data": {
      "text/html": [
       "<div>\n",
       "<style scoped>\n",
       "    .dataframe tbody tr th:only-of-type {\n",
       "        vertical-align: middle;\n",
       "    }\n",
       "\n",
       "    .dataframe tbody tr th {\n",
       "        vertical-align: top;\n",
       "    }\n",
       "\n",
       "    .dataframe thead th {\n",
       "        text-align: right;\n",
       "    }\n",
       "</style>\n",
       "<table border=\"1\" class=\"dataframe\">\n",
       "  <thead>\n",
       "    <tr style=\"text-align: right;\">\n",
       "      <th></th>\n",
       "      <th>user_id</th>\n",
       "      <th>gender</th>\n",
       "      <th>state</th>\n",
       "      <th>age</th>\n",
       "      <th>date_joined</th>\n",
       "      <th>n_dependants</th>\n",
       "      <th>fam_status</th>\n",
       "      <th>income</th>\n",
       "      <th>product_id</th>\n",
       "      <th>product_name</th>\n",
       "      <th>...</th>\n",
       "      <th>busiest_day</th>\n",
       "      <th>busiest_period_of_day</th>\n",
       "      <th>max_order</th>\n",
       "      <th>loyalty_flag</th>\n",
       "      <th>avg_spending</th>\n",
       "      <th>spending_flag</th>\n",
       "      <th>order_frequency</th>\n",
       "      <th>frequency_flag</th>\n",
       "      <th>region</th>\n",
       "      <th>exclusion_flag</th>\n",
       "    </tr>\n",
       "  </thead>\n",
       "  <tbody>\n",
       "    <tr>\n",
       "      <th>0</th>\n",
       "      <td>26711</td>\n",
       "      <td>Female</td>\n",
       "      <td>Missouri</td>\n",
       "      <td>48</td>\n",
       "      <td>2017-01-01</td>\n",
       "      <td>3</td>\n",
       "      <td>married</td>\n",
       "      <td>165665</td>\n",
       "      <td>196</td>\n",
       "      <td>Soda</td>\n",
       "      <td>...</td>\n",
       "      <td>Busiest days</td>\n",
       "      <td>Most Orders</td>\n",
       "      <td>8</td>\n",
       "      <td>New customer</td>\n",
       "      <td>7.988889</td>\n",
       "      <td>Low spender</td>\n",
       "      <td>19.0</td>\n",
       "      <td>Regular customer</td>\n",
       "      <td>Midwest</td>\n",
       "      <td>Include</td>\n",
       "    </tr>\n",
       "    <tr>\n",
       "      <th>1</th>\n",
       "      <td>26711</td>\n",
       "      <td>Female</td>\n",
       "      <td>Missouri</td>\n",
       "      <td>48</td>\n",
       "      <td>2017-01-01</td>\n",
       "      <td>3</td>\n",
       "      <td>married</td>\n",
       "      <td>165665</td>\n",
       "      <td>196</td>\n",
       "      <td>Soda</td>\n",
       "      <td>...</td>\n",
       "      <td>Regularly busy</td>\n",
       "      <td>Most Orders</td>\n",
       "      <td>8</td>\n",
       "      <td>New customer</td>\n",
       "      <td>7.988889</td>\n",
       "      <td>Low spender</td>\n",
       "      <td>19.0</td>\n",
       "      <td>Regular customer</td>\n",
       "      <td>Midwest</td>\n",
       "      <td>Include</td>\n",
       "    </tr>\n",
       "    <tr>\n",
       "      <th>2</th>\n",
       "      <td>26711</td>\n",
       "      <td>Female</td>\n",
       "      <td>Missouri</td>\n",
       "      <td>48</td>\n",
       "      <td>2017-01-01</td>\n",
       "      <td>3</td>\n",
       "      <td>married</td>\n",
       "      <td>165665</td>\n",
       "      <td>196</td>\n",
       "      <td>Soda</td>\n",
       "      <td>...</td>\n",
       "      <td>Busiest days</td>\n",
       "      <td>Most Orders</td>\n",
       "      <td>8</td>\n",
       "      <td>New customer</td>\n",
       "      <td>7.988889</td>\n",
       "      <td>Low spender</td>\n",
       "      <td>19.0</td>\n",
       "      <td>Regular customer</td>\n",
       "      <td>Midwest</td>\n",
       "      <td>Include</td>\n",
       "    </tr>\n",
       "    <tr>\n",
       "      <th>3</th>\n",
       "      <td>26711</td>\n",
       "      <td>Female</td>\n",
       "      <td>Missouri</td>\n",
       "      <td>48</td>\n",
       "      <td>2017-01-01</td>\n",
       "      <td>3</td>\n",
       "      <td>married</td>\n",
       "      <td>165665</td>\n",
       "      <td>6184</td>\n",
       "      <td>Clementines</td>\n",
       "      <td>...</td>\n",
       "      <td>Regularly busy</td>\n",
       "      <td>Most Orders</td>\n",
       "      <td>8</td>\n",
       "      <td>New customer</td>\n",
       "      <td>7.988889</td>\n",
       "      <td>Low spender</td>\n",
       "      <td>19.0</td>\n",
       "      <td>Regular customer</td>\n",
       "      <td>Midwest</td>\n",
       "      <td>Include</td>\n",
       "    </tr>\n",
       "    <tr>\n",
       "      <th>4</th>\n",
       "      <td>26711</td>\n",
       "      <td>Female</td>\n",
       "      <td>Missouri</td>\n",
       "      <td>48</td>\n",
       "      <td>2017-01-01</td>\n",
       "      <td>3</td>\n",
       "      <td>married</td>\n",
       "      <td>165665</td>\n",
       "      <td>6184</td>\n",
       "      <td>Clementines</td>\n",
       "      <td>...</td>\n",
       "      <td>Least busy days</td>\n",
       "      <td>Most Orders</td>\n",
       "      <td>8</td>\n",
       "      <td>New customer</td>\n",
       "      <td>7.988889</td>\n",
       "      <td>Low spender</td>\n",
       "      <td>19.0</td>\n",
       "      <td>Regular customer</td>\n",
       "      <td>Midwest</td>\n",
       "      <td>Include</td>\n",
       "    </tr>\n",
       "  </tbody>\n",
       "</table>\n",
       "<p>5 rows × 29 columns</p>\n",
       "</div>"
      ],
      "text/plain": [
       "  user_id  gender     state  age date_joined  n_dependants fam_status  income  \\\n",
       "0   26711  Female  Missouri   48  2017-01-01             3    married  165665   \n",
       "1   26711  Female  Missouri   48  2017-01-01             3    married  165665   \n",
       "2   26711  Female  Missouri   48  2017-01-01             3    married  165665   \n",
       "3   26711  Female  Missouri   48  2017-01-01             3    married  165665   \n",
       "4   26711  Female  Missouri   48  2017-01-01             3    married  165665   \n",
       "\n",
       "  product_id product_name  ...      busiest_day busiest_period_of_day  \\\n",
       "0        196         Soda  ...     Busiest days           Most Orders   \n",
       "1        196         Soda  ...   Regularly busy           Most Orders   \n",
       "2        196         Soda  ...     Busiest days           Most Orders   \n",
       "3       6184  Clementines  ...   Regularly busy           Most Orders   \n",
       "4       6184  Clementines  ...  Least busy days           Most Orders   \n",
       "\n",
       "   max_order  loyalty_flag  avg_spending  spending_flag  order_frequency  \\\n",
       "0          8  New customer      7.988889    Low spender             19.0   \n",
       "1          8  New customer      7.988889    Low spender             19.0   \n",
       "2          8  New customer      7.988889    Low spender             19.0   \n",
       "3          8  New customer      7.988889    Low spender             19.0   \n",
       "4          8  New customer      7.988889    Low spender             19.0   \n",
       "\n",
       "     frequency_flag   region exclusion_flag  \n",
       "0  Regular customer  Midwest        Include  \n",
       "1  Regular customer  Midwest        Include  \n",
       "2  Regular customer  Midwest        Include  \n",
       "3  Regular customer  Midwest        Include  \n",
       "4  Regular customer  Midwest        Include  \n",
       "\n",
       "[5 rows x 29 columns]"
      ]
     },
     "execution_count": 4,
     "metadata": {},
     "output_type": "execute_result"
    }
   ],
   "source": [
    "final_df.head()"
   ]
  },
  {
   "cell_type": "code",
   "execution_count": 5,
   "id": "2927ca36",
   "metadata": {
    "scrolled": true
   },
   "outputs": [
    {
     "data": {
      "text/plain": [
       "(30964564, 29)"
      ]
     },
     "execution_count": 5,
     "metadata": {},
     "output_type": "execute_result"
    }
   ],
   "source": [
    "final_df.shape"
   ]
  },
  {
   "cell_type": "markdown",
   "id": "ffdb1c6e",
   "metadata": {},
   "source": [
    "## Part 1"
   ]
  },
  {
   "cell_type": "markdown",
   "id": "7f301c75",
   "metadata": {},
   "source": [
    "## Question 5: Create Customer Profiles"
   ]
  },
  {
   "cell_type": "code",
   "execution_count": 6,
   "id": "03988c42",
   "metadata": {},
   "outputs": [
    {
     "data": {
      "text/plain": [
       "3    7772516\n",
       "0    7739681\n",
       "2    7733261\n",
       "1    7719106\n",
       "Name: n_dependants, dtype: int64"
      ]
     },
     "execution_count": 6,
     "metadata": {},
     "output_type": "execute_result"
    }
   ],
   "source": [
    "# Check n_dependants values:\n",
    "final_df['n_dependants'].value_counts()"
   ]
  },
  {
   "cell_type": "code",
   "execution_count": 7,
   "id": "58c0d7a3",
   "metadata": {},
   "outputs": [
    {
     "data": {
      "text/plain": [
       "79    508337\n",
       "49    507879\n",
       "48    506730\n",
       "31    506218\n",
       "64    504832\n",
       "       ...  \n",
       "60    461897\n",
       "36    460649\n",
       "66    454604\n",
       "41    451269\n",
       "25    449324\n",
       "Name: age, Length: 64, dtype: int64"
      ]
     },
     "execution_count": 7,
     "metadata": {},
     "output_type": "execute_result"
    }
   ],
   "source": [
    "# Check age values:\n",
    "final_df['age'].value_counts()"
   ]
  },
  {
   "cell_type": "code",
   "execution_count": 8,
   "id": "00bb9e10",
   "metadata": {},
   "outputs": [
    {
     "data": {
      "text/html": [
       "<div>\n",
       "<style scoped>\n",
       "    .dataframe tbody tr th:only-of-type {\n",
       "        vertical-align: middle;\n",
       "    }\n",
       "\n",
       "    .dataframe tbody tr th {\n",
       "        vertical-align: top;\n",
       "    }\n",
       "\n",
       "    .dataframe thead th {\n",
       "        text-align: right;\n",
       "    }\n",
       "</style>\n",
       "<table border=\"1\" class=\"dataframe\">\n",
       "  <thead>\n",
       "    <tr style=\"text-align: right;\">\n",
       "      <th></th>\n",
       "      <th>income</th>\n",
       "    </tr>\n",
       "  </thead>\n",
       "  <tbody>\n",
       "    <tr>\n",
       "      <th>max</th>\n",
       "      <td>593901</td>\n",
       "    </tr>\n",
       "    <tr>\n",
       "      <th>min</th>\n",
       "      <td>25903</td>\n",
       "    </tr>\n",
       "  </tbody>\n",
       "</table>\n",
       "</div>"
      ],
      "text/plain": [
       "     income\n",
       "max  593901\n",
       "min   25903"
      ]
     },
     "execution_count": 8,
     "metadata": {},
     "output_type": "execute_result"
    }
   ],
   "source": [
    "# Check income variable:\n",
    "final_df.agg({'income': ['max', 'min']})"
   ]
  },
  {
   "cell_type": "code",
   "execution_count": 9,
   "id": "c6413e64",
   "metadata": {},
   "outputs": [],
   "source": [
    "# Creating Customer Profiles: High-income young families.\n",
    "# 'high income' means salaries over 270 000 (according to research upper middle-class is when a person earns between 100 000 and 370 000 - I wanted to choose something almost in the middle of that to split 'upper' and 'middle');\n",
    "# 'young' means ages 18 to 40;\n",
    "# 'families' refer to either married customers or customers with dependants\n",
    "final_df.loc[(final_df['age'] >= 18) & (final_df['age'] <= 40) & (final_df['income'] > 270000) & (final_df['department_id'].isin(['1', '4', '5', '7', '18', '19', '16'])) & (final_df['fam_status'].isin(['married', 'living with parents and siblings'])) & (final_df['n_dependants'].isin([0, 1, 2, 3])), 'customer_profile'] = 'High Income Young Family'"
   ]
  },
  {
   "cell_type": "code",
   "execution_count": 10,
   "id": "4525c9f3",
   "metadata": {},
   "outputs": [],
   "source": [
    "# Creating Customer Profiles: Low-income young families.\n",
    "# 'low income' means salaries less than 270000;\n",
    "# 'young' means ages 18 to 40;\n",
    "# 'families' refer to either married customers or customers with dependants\n",
    "final_df.loc[(final_df['age'] >= 18) & (final_df['age'] <= 40) & (final_df['income'] <= 270000) & (final_df['department_id'].isin(['1', '4', '5', '7', '18', '19', '16'])) & (final_df['fam_status'].isin(['married', 'living with parents and siblings'])) & (final_df['n_dependants'].isin([0, 1, 2, 3])), 'customer_profile'] = 'Low Income Young Family'"
   ]
  },
  {
   "cell_type": "code",
   "execution_count": 11,
   "id": "0f69d069",
   "metadata": {},
   "outputs": [],
   "source": [
    "# Creating Customer Profiles: Low-income families.\n",
    "# 'low income' means salaries less than 270000;\n",
    "# 'families' refer to either married customers or customers with dependants\n",
    "final_df.loc[(final_df['age'] > 40) & (final_df['age'] <= 64) & (final_df['income'] <= 270000) & (final_df['department_id'].isin(['1', '4', '5', '7', '18', '19', '16', '17'])) & (final_df['fam_status'].isin(['married', 'living with parents and siblings'])) & (final_df['n_dependants'].isin([1, 2, 3])), 'customer_profile'] = 'Low Income Family'"
   ]
  },
  {
   "cell_type": "code",
   "execution_count": 12,
   "id": "30f2d287",
   "metadata": {},
   "outputs": [],
   "source": [
    "# Creating Customer Profiles: High-income families.\n",
    "# 'high income' means salaries above 270000;\n",
    "# 'families' refer to either married customers or customers with dependants\n",
    "final_df.loc[(final_df['age'] > 40) & (final_df['age'] <= 64) & (final_df['income'] > 270000) & (final_df['department_id'].isin(['1', '4', '5', '7', '17', '18', '19', '16'])) & (final_df['fam_status'].isin(['married', 'living with parents and siblings'])) & (final_df['n_dependants'].isin([1, 2, 3])), 'customer_profile'] = 'High Income Family'"
   ]
  },
  {
   "cell_type": "code",
   "execution_count": 13,
   "id": "10b36c36",
   "metadata": {},
   "outputs": [],
   "source": [
    "# Creating Customer Profiles: High-income Pensioner families.\n",
    "# 'high income' means salaries above 270000;\n",
    "# 'pensioner' refers to people 65 and older;\n",
    "# 'families' refer to either married customers or customers with dependants\n",
    "final_df.loc[(final_df['age'] > 64) & (final_df['income'] > 270000) & (final_df['department_id'].isin(['1', '4', '5', '7', '19', '16'])) & (final_df['fam_status'].isin(['married', 'living with parents and siblings'])) & (final_df['n_dependants'].isin([1, 2, 3])), 'customer_profile'] = 'High Income Pensioner Family'"
   ]
  },
  {
   "cell_type": "code",
   "execution_count": 14,
   "id": "cb09f269",
   "metadata": {},
   "outputs": [],
   "source": [
    "# Creating Customer Profiles: low-income Pensioner families.\n",
    "# 'low income' means salaries below 270000;\n",
    "# 'pensioner' refers to people 65 and older;\n",
    "# 'families' refer to either married customers or customers with dependants\n",
    "final_df.loc[(final_df['age'] > 64) & (final_df['income'] <= 270000) & (final_df['department_id'].isin(['1', '4', '5', '7', '19', '16'])) & (final_df['fam_status'].isin(['married', 'living with parents and siblings'])) & (final_df['n_dependants'].isin([1, 2, 3])), 'customer_profile'] = 'Low Income Pensioner Family'"
   ]
  },
  {
   "cell_type": "code",
   "execution_count": 15,
   "id": "f0cf991b",
   "metadata": {},
   "outputs": [],
   "source": [
    "# Creating Customer Profiles: Single High-income young adult.\n",
    "# 'high income' means salaries over 270000;\n",
    "# 'young' means ages 18 to 40;\n",
    "# 'single' refers to either single or divorced/widowed with no dependants\n",
    "final_df.loc[(final_df['age'] >= 18) & (final_df['age'] <= 40) & (final_df['income'] > 270000) & (final_df['department_id'].isin(['1', '4', '5', '7', '19', '16'])) & (final_df['fam_status'].isin(['single', 'divorced/widowed'])) & (final_df['n_dependants'] == 0), 'customer_profile'] = 'High Income Single Young Adult'"
   ]
  },
  {
   "cell_type": "code",
   "execution_count": 16,
   "id": "2f42f827",
   "metadata": {},
   "outputs": [],
   "source": [
    "# Creating Customer Profiles: Low-income single young adult.\n",
    "# 'low income' means salaries under 270000;\n",
    "# 'young' means ages 18 to 40;\n",
    "# 'single' refers to either single or divorced/widowed\n",
    "final_df.loc[(final_df['age'] >= 18) & (final_df['age'] <= 40) & (final_df['income'] <= 270000) & (final_df['department_id'].isin(['1', '4', '5', '7', '19', '16'])) & (final_df['fam_status'].isin(['single', 'divorced/widowed'])) & (final_df['n_dependants'] == 0), 'customer_profile'] = 'Low Income Single Young Adult'"
   ]
  },
  {
   "cell_type": "code",
   "execution_count": 17,
   "id": "0a282c38",
   "metadata": {},
   "outputs": [],
   "source": [
    "# Creating Customer Profiles: Low-income single adult.\n",
    "# 'low income' means salaries under 270000;\n",
    "# 'single' refers to either single or divorced/widowed\n",
    "final_df.loc[(final_df['age'] > 40) & (final_df['age'] <= 64) & (final_df['income'] <= 270000) & (final_df['department_id'].isin(['1', '4', '5', '7', '19', '16'])) & (final_df['fam_status'].isin(['single', 'divorced/widowed'])) & (final_df['n_dependants'] == 0), 'customer_profile'] = 'Low Income Single Adult'"
   ]
  },
  {
   "cell_type": "code",
   "execution_count": 18,
   "id": "e1a7dca2",
   "metadata": {},
   "outputs": [],
   "source": [
    "# Creating Customer Profiles: Single high-income adult.\n",
    "# 'high income' means salaries above 270000;\n",
    "# 'single' refers to either single or divorced/widowed\n",
    "final_df.loc[(final_df['age'] > 40) & (final_df['age'] <= 64) & (final_df['income'] > 270000) & (final_df['department_id'].isin(['1', '4', '5', '7', '19', '16'])) & (final_df['fam_status'].isin(['single', 'divorced/widowed'])) & (final_df['n_dependants'] == 0), 'customer_profile'] = 'High Income Single Adult'"
   ]
  },
  {
   "cell_type": "code",
   "execution_count": 19,
   "id": "e217a4dc",
   "metadata": {},
   "outputs": [],
   "source": [
    "# Creating Customer Profiles: High-income Pensioner.\n",
    "# 'high income' means salaries above 270000;\n",
    "# 'pensioner' refers to people 65 and older;\n",
    "final_df.loc[(final_df['age'] > 64) & (final_df['income'] >= 270000) & (final_df['department_id'].isin(['1', '4', '5', '7', '19', '16'])) & (final_df['fam_status'].isin(['single', 'divorced/widowed'])) & (final_df['n_dependants'] == 0), 'customer_profile'] = 'High Income Pensioner'"
   ]
  },
  {
   "cell_type": "code",
   "execution_count": 20,
   "id": "8e9a74a7",
   "metadata": {},
   "outputs": [],
   "source": [
    "# Creating Customer Profiles: Low-income Pensioner.\n",
    "# 'low income' means salaries below 270000;\n",
    "# 'pensioner' refers to people 65 and older;\n",
    "final_df.loc[(final_df['age'] > 64) & (final_df['income'] <= 270000) & (final_df['department_id'].isin(['1', '4', '5', '7', '19', '16'])) & (final_df['fam_status'].isin(['single', 'divorced/widowed'])) & (final_df['n_dependants'] == 0), 'customer_profile'] = 'Low Income Pensioner'"
   ]
  },
  {
   "cell_type": "code",
   "execution_count": 21,
   "id": "3b48a6da",
   "metadata": {},
   "outputs": [
    {
     "data": {
      "text/plain": [
       "NaN                               8678217\n",
       "Low Income Family                 6400641\n",
       "Low Income Young Family           6007494\n",
       "Low Income Pensioner Family       4332820\n",
       "Low Income Single Adult           2059981\n",
       "Low Income Single Young Adult     1959141\n",
       "Low Income Pensioner              1425227\n",
       "High Income Family                  36373\n",
       "High Income Pensioner Family        23795\n",
       "High Income Single Adult            14548\n",
       "High Income Young Family            13453\n",
       "High Income Pensioner                7846\n",
       "High Income Single Young Adult       5028\n",
       "Name: customer_profile, dtype: int64"
      ]
     },
     "execution_count": 21,
     "metadata": {},
     "output_type": "execute_result"
    }
   ],
   "source": [
    "# Check new variable\n",
    "final_df['customer_profile'].value_counts(dropna = False)"
   ]
  },
  {
   "cell_type": "code",
   "execution_count": 22,
   "id": "7e14eefb",
   "metadata": {},
   "outputs": [
    {
     "data": {
      "text/html": [
       "<div>\n",
       "<style scoped>\n",
       "    .dataframe tbody tr th:only-of-type {\n",
       "        vertical-align: middle;\n",
       "    }\n",
       "\n",
       "    .dataframe tbody tr th {\n",
       "        vertical-align: top;\n",
       "    }\n",
       "\n",
       "    .dataframe thead th {\n",
       "        text-align: right;\n",
       "    }\n",
       "</style>\n",
       "<table border=\"1\" class=\"dataframe\">\n",
       "  <thead>\n",
       "    <tr style=\"text-align: right;\">\n",
       "      <th></th>\n",
       "      <th>user_id</th>\n",
       "      <th>customer_profile</th>\n",
       "    </tr>\n",
       "  </thead>\n",
       "  <tbody>\n",
       "    <tr>\n",
       "      <th>0</th>\n",
       "      <td>26711</td>\n",
       "      <td>Low Income Family</td>\n",
       "    </tr>\n",
       "    <tr>\n",
       "      <th>1</th>\n",
       "      <td>26711</td>\n",
       "      <td>Low Income Family</td>\n",
       "    </tr>\n",
       "    <tr>\n",
       "      <th>2</th>\n",
       "      <td>26711</td>\n",
       "      <td>Low Income Family</td>\n",
       "    </tr>\n",
       "    <tr>\n",
       "      <th>3</th>\n",
       "      <td>26711</td>\n",
       "      <td>Low Income Family</td>\n",
       "    </tr>\n",
       "    <tr>\n",
       "      <th>4</th>\n",
       "      <td>26711</td>\n",
       "      <td>Low Income Family</td>\n",
       "    </tr>\n",
       "    <tr>\n",
       "      <th>5</th>\n",
       "      <td>26711</td>\n",
       "      <td>Low Income Family</td>\n",
       "    </tr>\n",
       "    <tr>\n",
       "      <th>6</th>\n",
       "      <td>26711</td>\n",
       "      <td>Low Income Family</td>\n",
       "    </tr>\n",
       "    <tr>\n",
       "      <th>7</th>\n",
       "      <td>26711</td>\n",
       "      <td>Low Income Family</td>\n",
       "    </tr>\n",
       "    <tr>\n",
       "      <th>8</th>\n",
       "      <td>26711</td>\n",
       "      <td>Low Income Family</td>\n",
       "    </tr>\n",
       "    <tr>\n",
       "      <th>9</th>\n",
       "      <td>26711</td>\n",
       "      <td>Low Income Family</td>\n",
       "    </tr>\n",
       "    <tr>\n",
       "      <th>10</th>\n",
       "      <td>26711</td>\n",
       "      <td>Low Income Family</td>\n",
       "    </tr>\n",
       "    <tr>\n",
       "      <th>11</th>\n",
       "      <td>26711</td>\n",
       "      <td>Low Income Family</td>\n",
       "    </tr>\n",
       "    <tr>\n",
       "      <th>12</th>\n",
       "      <td>26711</td>\n",
       "      <td>Low Income Family</td>\n",
       "    </tr>\n",
       "    <tr>\n",
       "      <th>13</th>\n",
       "      <td>26711</td>\n",
       "      <td>Low Income Family</td>\n",
       "    </tr>\n",
       "    <tr>\n",
       "      <th>14</th>\n",
       "      <td>26711</td>\n",
       "      <td>Low Income Family</td>\n",
       "    </tr>\n",
       "    <tr>\n",
       "      <th>15</th>\n",
       "      <td>26711</td>\n",
       "      <td>Low Income Family</td>\n",
       "    </tr>\n",
       "    <tr>\n",
       "      <th>16</th>\n",
       "      <td>26711</td>\n",
       "      <td>Low Income Family</td>\n",
       "    </tr>\n",
       "    <tr>\n",
       "      <th>17</th>\n",
       "      <td>26711</td>\n",
       "      <td>Low Income Family</td>\n",
       "    </tr>\n",
       "    <tr>\n",
       "      <th>18</th>\n",
       "      <td>33890</td>\n",
       "      <td>Low Income Single Young Adult</td>\n",
       "    </tr>\n",
       "    <tr>\n",
       "      <th>19</th>\n",
       "      <td>33890</td>\n",
       "      <td>Low Income Single Young Adult</td>\n",
       "    </tr>\n",
       "    <tr>\n",
       "      <th>20</th>\n",
       "      <td>33890</td>\n",
       "      <td>Low Income Single Young Adult</td>\n",
       "    </tr>\n",
       "    <tr>\n",
       "      <th>21</th>\n",
       "      <td>33890</td>\n",
       "      <td>NaN</td>\n",
       "    </tr>\n",
       "    <tr>\n",
       "      <th>22</th>\n",
       "      <td>33890</td>\n",
       "      <td>Low Income Single Young Adult</td>\n",
       "    </tr>\n",
       "    <tr>\n",
       "      <th>23</th>\n",
       "      <td>33890</td>\n",
       "      <td>Low Income Single Young Adult</td>\n",
       "    </tr>\n",
       "    <tr>\n",
       "      <th>24</th>\n",
       "      <td>33890</td>\n",
       "      <td>Low Income Single Young Adult</td>\n",
       "    </tr>\n",
       "    <tr>\n",
       "      <th>25</th>\n",
       "      <td>33890</td>\n",
       "      <td>Low Income Single Young Adult</td>\n",
       "    </tr>\n",
       "    <tr>\n",
       "      <th>26</th>\n",
       "      <td>33890</td>\n",
       "      <td>Low Income Single Young Adult</td>\n",
       "    </tr>\n",
       "    <tr>\n",
       "      <th>27</th>\n",
       "      <td>33890</td>\n",
       "      <td>NaN</td>\n",
       "    </tr>\n",
       "    <tr>\n",
       "      <th>28</th>\n",
       "      <td>33890</td>\n",
       "      <td>NaN</td>\n",
       "    </tr>\n",
       "    <tr>\n",
       "      <th>29</th>\n",
       "      <td>33890</td>\n",
       "      <td>Low Income Single Young Adult</td>\n",
       "    </tr>\n",
       "  </tbody>\n",
       "</table>\n",
       "</div>"
      ],
      "text/plain": [
       "   user_id               customer_profile\n",
       "0    26711              Low Income Family\n",
       "1    26711              Low Income Family\n",
       "2    26711              Low Income Family\n",
       "3    26711              Low Income Family\n",
       "4    26711              Low Income Family\n",
       "5    26711              Low Income Family\n",
       "6    26711              Low Income Family\n",
       "7    26711              Low Income Family\n",
       "8    26711              Low Income Family\n",
       "9    26711              Low Income Family\n",
       "10   26711              Low Income Family\n",
       "11   26711              Low Income Family\n",
       "12   26711              Low Income Family\n",
       "13   26711              Low Income Family\n",
       "14   26711              Low Income Family\n",
       "15   26711              Low Income Family\n",
       "16   26711              Low Income Family\n",
       "17   26711              Low Income Family\n",
       "18   33890  Low Income Single Young Adult\n",
       "19   33890  Low Income Single Young Adult\n",
       "20   33890  Low Income Single Young Adult\n",
       "21   33890                            NaN\n",
       "22   33890  Low Income Single Young Adult\n",
       "23   33890  Low Income Single Young Adult\n",
       "24   33890  Low Income Single Young Adult\n",
       "25   33890  Low Income Single Young Adult\n",
       "26   33890  Low Income Single Young Adult\n",
       "27   33890                            NaN\n",
       "28   33890                            NaN\n",
       "29   33890  Low Income Single Young Adult"
      ]
     },
     "execution_count": 22,
     "metadata": {},
     "output_type": "execute_result"
    }
   ],
   "source": [
    "final_df[['user_id', 'customer_profile']].head(30)"
   ]
  },
  {
   "cell_type": "code",
   "execution_count": 23,
   "id": "063a1354",
   "metadata": {},
   "outputs": [],
   "source": [
    "# transform all values in customer_profile column to be the same value for each user_id (a user_id cannot have 2 profiles)\n",
    "final_df['customer_profile'] = final_df.groupby('user_id')['customer_profile'].transform('first')"
   ]
  },
  {
   "cell_type": "code",
   "execution_count": 24,
   "id": "9f95ed1e",
   "metadata": {},
   "outputs": [
    {
     "data": {
      "text/plain": [
       "Low Income Family                 8631666\n",
       "Low Income Young Family           8346952\n",
       "Low Income Pensioner Family       6136891\n",
       "Low Income Single Adult           2915421\n",
       "Low Income Single Young Adult     2771931\n",
       "Low Income Pensioner              2010385\n",
       "High Income Family                  51265\n",
       "High Income Pensioner Family        36227\n",
       "High Income Single Adult            21763\n",
       "High Income Young Family            20443\n",
       "High Income Pensioner               11484\n",
       "High Income Single Young Adult       8101\n",
       "NaN                                  2035\n",
       "Name: customer_profile, dtype: int64"
      ]
     },
     "execution_count": 24,
     "metadata": {},
     "output_type": "execute_result"
    }
   ],
   "source": [
    "# Check new variable\n",
    "final_df['customer_profile'].value_counts(dropna = False)"
   ]
  },
  {
   "cell_type": "code",
   "execution_count": 25,
   "id": "5e8ce289",
   "metadata": {},
   "outputs": [],
   "source": [
    "# create df of missing values\n",
    "df_NaN = final_df[final_df['customer_profile'].isnull() == True]"
   ]
  },
  {
   "cell_type": "code",
   "execution_count": 26,
   "id": "ab7fcf04",
   "metadata": {
    "scrolled": false
   },
   "outputs": [
    {
     "data": {
      "text/plain": [
       "299326     131987\n",
       "299327     131987\n",
       "299328     131987\n",
       "299329     131987\n",
       "299330     131987\n",
       "            ...  \n",
       "2288516    136143\n",
       "2288517    136143\n",
       "2288518    136143\n",
       "2288519    136143\n",
       "2288520    136143\n",
       "Name: income, Length: 100, dtype: int64"
      ]
     },
     "execution_count": 26,
     "metadata": {},
     "output_type": "execute_result"
    }
   ],
   "source": [
    "df_NaN.groupby(['user_id'])['income'].transform(np.max).head(100)"
   ]
  },
  {
   "cell_type": "code",
   "execution_count": 27,
   "id": "f6942ff2",
   "metadata": {
    "scrolled": false
   },
   "outputs": [
    {
     "data": {
      "text/html": [
       "<div>\n",
       "<style scoped>\n",
       "    .dataframe tbody tr th:only-of-type {\n",
       "        vertical-align: middle;\n",
       "    }\n",
       "\n",
       "    .dataframe tbody tr th {\n",
       "        vertical-align: top;\n",
       "    }\n",
       "\n",
       "    .dataframe thead th {\n",
       "        text-align: right;\n",
       "    }\n",
       "</style>\n",
       "<table border=\"1\" class=\"dataframe\">\n",
       "  <thead>\n",
       "    <tr style=\"text-align: right;\">\n",
       "      <th></th>\n",
       "      <th>user_id</th>\n",
       "      <th>gender</th>\n",
       "      <th>state</th>\n",
       "      <th>age</th>\n",
       "      <th>date_joined</th>\n",
       "      <th>n_dependants</th>\n",
       "      <th>fam_status</th>\n",
       "      <th>income</th>\n",
       "      <th>product_id</th>\n",
       "      <th>product_name</th>\n",
       "      <th>...</th>\n",
       "      <th>busiest_period_of_day</th>\n",
       "      <th>max_order</th>\n",
       "      <th>loyalty_flag</th>\n",
       "      <th>avg_spending</th>\n",
       "      <th>spending_flag</th>\n",
       "      <th>order_frequency</th>\n",
       "      <th>frequency_flag</th>\n",
       "      <th>region</th>\n",
       "      <th>exclusion_flag</th>\n",
       "      <th>customer_profile</th>\n",
       "    </tr>\n",
       "  </thead>\n",
       "  <tbody>\n",
       "    <tr>\n",
       "      <th>299326</th>\n",
       "      <td>25722</td>\n",
       "      <td>Male</td>\n",
       "      <td>Kentucky</td>\n",
       "      <td>65</td>\n",
       "      <td>2017-01-11</td>\n",
       "      <td>1</td>\n",
       "      <td>married</td>\n",
       "      <td>131987</td>\n",
       "      <td>7021</td>\n",
       "      <td>Organic Tomato Paste</td>\n",
       "      <td>...</td>\n",
       "      <td>Average Orders</td>\n",
       "      <td>6</td>\n",
       "      <td>New customer</td>\n",
       "      <td>7.228571</td>\n",
       "      <td>Low spender</td>\n",
       "      <td>26.0</td>\n",
       "      <td>Non-frequent customer</td>\n",
       "      <td>South</td>\n",
       "      <td>Include</td>\n",
       "      <td>None</td>\n",
       "    </tr>\n",
       "    <tr>\n",
       "      <th>299327</th>\n",
       "      <td>25722</td>\n",
       "      <td>Male</td>\n",
       "      <td>Kentucky</td>\n",
       "      <td>65</td>\n",
       "      <td>2017-01-11</td>\n",
       "      <td>1</td>\n",
       "      <td>married</td>\n",
       "      <td>131987</td>\n",
       "      <td>7021</td>\n",
       "      <td>Organic Tomato Paste</td>\n",
       "      <td>...</td>\n",
       "      <td>Average Orders</td>\n",
       "      <td>6</td>\n",
       "      <td>New customer</td>\n",
       "      <td>7.228571</td>\n",
       "      <td>Low spender</td>\n",
       "      <td>26.0</td>\n",
       "      <td>Non-frequent customer</td>\n",
       "      <td>South</td>\n",
       "      <td>Include</td>\n",
       "      <td>None</td>\n",
       "    </tr>\n",
       "    <tr>\n",
       "      <th>299328</th>\n",
       "      <td>25722</td>\n",
       "      <td>Male</td>\n",
       "      <td>Kentucky</td>\n",
       "      <td>65</td>\n",
       "      <td>2017-01-11</td>\n",
       "      <td>1</td>\n",
       "      <td>married</td>\n",
       "      <td>131987</td>\n",
       "      <td>9358</td>\n",
       "      <td>April Fresh Liquid Fabric Softener</td>\n",
       "      <td>...</td>\n",
       "      <td>Most Orders</td>\n",
       "      <td>6</td>\n",
       "      <td>New customer</td>\n",
       "      <td>7.228571</td>\n",
       "      <td>Low spender</td>\n",
       "      <td>26.0</td>\n",
       "      <td>Non-frequent customer</td>\n",
       "      <td>South</td>\n",
       "      <td>Include</td>\n",
       "      <td>None</td>\n",
       "    </tr>\n",
       "    <tr>\n",
       "      <th>299329</th>\n",
       "      <td>25722</td>\n",
       "      <td>Male</td>\n",
       "      <td>Kentucky</td>\n",
       "      <td>65</td>\n",
       "      <td>2017-01-11</td>\n",
       "      <td>1</td>\n",
       "      <td>married</td>\n",
       "      <td>131987</td>\n",
       "      <td>9358</td>\n",
       "      <td>April Fresh Liquid Fabric Softener</td>\n",
       "      <td>...</td>\n",
       "      <td>Average Orders</td>\n",
       "      <td>6</td>\n",
       "      <td>New customer</td>\n",
       "      <td>7.228571</td>\n",
       "      <td>Low spender</td>\n",
       "      <td>26.0</td>\n",
       "      <td>Non-frequent customer</td>\n",
       "      <td>South</td>\n",
       "      <td>Include</td>\n",
       "      <td>None</td>\n",
       "    </tr>\n",
       "    <tr>\n",
       "      <th>299330</th>\n",
       "      <td>25722</td>\n",
       "      <td>Male</td>\n",
       "      <td>Kentucky</td>\n",
       "      <td>65</td>\n",
       "      <td>2017-01-11</td>\n",
       "      <td>1</td>\n",
       "      <td>married</td>\n",
       "      <td>131987</td>\n",
       "      <td>9358</td>\n",
       "      <td>April Fresh Liquid Fabric Softener</td>\n",
       "      <td>...</td>\n",
       "      <td>Average Orders</td>\n",
       "      <td>6</td>\n",
       "      <td>New customer</td>\n",
       "      <td>7.228571</td>\n",
       "      <td>Low spender</td>\n",
       "      <td>26.0</td>\n",
       "      <td>Non-frequent customer</td>\n",
       "      <td>South</td>\n",
       "      <td>Include</td>\n",
       "      <td>None</td>\n",
       "    </tr>\n",
       "    <tr>\n",
       "      <th>...</th>\n",
       "      <td>...</td>\n",
       "      <td>...</td>\n",
       "      <td>...</td>\n",
       "      <td>...</td>\n",
       "      <td>...</td>\n",
       "      <td>...</td>\n",
       "      <td>...</td>\n",
       "      <td>...</td>\n",
       "      <td>...</td>\n",
       "      <td>...</td>\n",
       "      <td>...</td>\n",
       "      <td>...</td>\n",
       "      <td>...</td>\n",
       "      <td>...</td>\n",
       "      <td>...</td>\n",
       "      <td>...</td>\n",
       "      <td>...</td>\n",
       "      <td>...</td>\n",
       "      <td>...</td>\n",
       "      <td>...</td>\n",
       "      <td>...</td>\n",
       "    </tr>\n",
       "    <tr>\n",
       "      <th>32035316</th>\n",
       "      <td>115493</td>\n",
       "      <td>Female</td>\n",
       "      <td>North Dakota</td>\n",
       "      <td>49</td>\n",
       "      <td>2020-03-18</td>\n",
       "      <td>3</td>\n",
       "      <td>married</td>\n",
       "      <td>113015</td>\n",
       "      <td>18308</td>\n",
       "      <td>Non Fat Dry Milk Powder</td>\n",
       "      <td>...</td>\n",
       "      <td>Average Orders</td>\n",
       "      <td>5</td>\n",
       "      <td>New customer</td>\n",
       "      <td>12.350000</td>\n",
       "      <td>High spender</td>\n",
       "      <td>1.0</td>\n",
       "      <td>frequent customer</td>\n",
       "      <td>Midwest</td>\n",
       "      <td>Include</td>\n",
       "      <td>None</td>\n",
       "    </tr>\n",
       "    <tr>\n",
       "      <th>32035317</th>\n",
       "      <td>115493</td>\n",
       "      <td>Female</td>\n",
       "      <td>North Dakota</td>\n",
       "      <td>49</td>\n",
       "      <td>2020-03-18</td>\n",
       "      <td>3</td>\n",
       "      <td>married</td>\n",
       "      <td>113015</td>\n",
       "      <td>18308</td>\n",
       "      <td>Non Fat Dry Milk Powder</td>\n",
       "      <td>...</td>\n",
       "      <td>Most Orders</td>\n",
       "      <td>5</td>\n",
       "      <td>New customer</td>\n",
       "      <td>12.350000</td>\n",
       "      <td>High spender</td>\n",
       "      <td>1.0</td>\n",
       "      <td>frequent customer</td>\n",
       "      <td>Midwest</td>\n",
       "      <td>Include</td>\n",
       "      <td>None</td>\n",
       "    </tr>\n",
       "    <tr>\n",
       "      <th>32035318</th>\n",
       "      <td>115493</td>\n",
       "      <td>Female</td>\n",
       "      <td>North Dakota</td>\n",
       "      <td>49</td>\n",
       "      <td>2020-03-18</td>\n",
       "      <td>3</td>\n",
       "      <td>married</td>\n",
       "      <td>113015</td>\n",
       "      <td>31162</td>\n",
       "      <td>European Cookie Spread</td>\n",
       "      <td>...</td>\n",
       "      <td>Most Orders</td>\n",
       "      <td>5</td>\n",
       "      <td>New customer</td>\n",
       "      <td>12.350000</td>\n",
       "      <td>High spender</td>\n",
       "      <td>1.0</td>\n",
       "      <td>frequent customer</td>\n",
       "      <td>Midwest</td>\n",
       "      <td>Include</td>\n",
       "      <td>None</td>\n",
       "    </tr>\n",
       "    <tr>\n",
       "      <th>32035319</th>\n",
       "      <td>115493</td>\n",
       "      <td>Female</td>\n",
       "      <td>North Dakota</td>\n",
       "      <td>49</td>\n",
       "      <td>2020-03-18</td>\n",
       "      <td>3</td>\n",
       "      <td>married</td>\n",
       "      <td>113015</td>\n",
       "      <td>31162</td>\n",
       "      <td>European Cookie Spread</td>\n",
       "      <td>...</td>\n",
       "      <td>Most Orders</td>\n",
       "      <td>5</td>\n",
       "      <td>New customer</td>\n",
       "      <td>12.350000</td>\n",
       "      <td>High spender</td>\n",
       "      <td>1.0</td>\n",
       "      <td>frequent customer</td>\n",
       "      <td>Midwest</td>\n",
       "      <td>Include</td>\n",
       "      <td>None</td>\n",
       "    </tr>\n",
       "    <tr>\n",
       "      <th>32035320</th>\n",
       "      <td>115493</td>\n",
       "      <td>Female</td>\n",
       "      <td>North Dakota</td>\n",
       "      <td>49</td>\n",
       "      <td>2020-03-18</td>\n",
       "      <td>3</td>\n",
       "      <td>married</td>\n",
       "      <td>113015</td>\n",
       "      <td>31162</td>\n",
       "      <td>European Cookie Spread</td>\n",
       "      <td>...</td>\n",
       "      <td>Average Orders</td>\n",
       "      <td>5</td>\n",
       "      <td>New customer</td>\n",
       "      <td>12.350000</td>\n",
       "      <td>High spender</td>\n",
       "      <td>1.0</td>\n",
       "      <td>frequent customer</td>\n",
       "      <td>Midwest</td>\n",
       "      <td>Include</td>\n",
       "      <td>None</td>\n",
       "    </tr>\n",
       "  </tbody>\n",
       "</table>\n",
       "<p>2035 rows × 30 columns</p>\n",
       "</div>"
      ],
      "text/plain": [
       "         user_id  gender         state  age date_joined  n_dependants  \\\n",
       "299326     25722    Male      Kentucky   65  2017-01-11             1   \n",
       "299327     25722    Male      Kentucky   65  2017-01-11             1   \n",
       "299328     25722    Male      Kentucky   65  2017-01-11             1   \n",
       "299329     25722    Male      Kentucky   65  2017-01-11             1   \n",
       "299330     25722    Male      Kentucky   65  2017-01-11             1   \n",
       "...          ...     ...           ...  ...         ...           ...   \n",
       "32035316  115493  Female  North Dakota   49  2020-03-18             3   \n",
       "32035317  115493  Female  North Dakota   49  2020-03-18             3   \n",
       "32035318  115493  Female  North Dakota   49  2020-03-18             3   \n",
       "32035319  115493  Female  North Dakota   49  2020-03-18             3   \n",
       "32035320  115493  Female  North Dakota   49  2020-03-18             3   \n",
       "\n",
       "         fam_status  income product_id                        product_name  \\\n",
       "299326      married  131987       7021                Organic Tomato Paste   \n",
       "299327      married  131987       7021                Organic Tomato Paste   \n",
       "299328      married  131987       9358  April Fresh Liquid Fabric Softener   \n",
       "299329      married  131987       9358  April Fresh Liquid Fabric Softener   \n",
       "299330      married  131987       9358  April Fresh Liquid Fabric Softener   \n",
       "...             ...     ...        ...                                 ...   \n",
       "32035316    married  113015      18308             Non Fat Dry Milk Powder   \n",
       "32035317    married  113015      18308             Non Fat Dry Milk Powder   \n",
       "32035318    married  113015      31162              European Cookie Spread   \n",
       "32035319    married  113015      31162              European Cookie Spread   \n",
       "32035320    married  113015      31162              European Cookie Spread   \n",
       "\n",
       "          ...  busiest_period_of_day max_order  loyalty_flag avg_spending  \\\n",
       "299326    ...         Average Orders         6  New customer     7.228571   \n",
       "299327    ...         Average Orders         6  New customer     7.228571   \n",
       "299328    ...            Most Orders         6  New customer     7.228571   \n",
       "299329    ...         Average Orders         6  New customer     7.228571   \n",
       "299330    ...         Average Orders         6  New customer     7.228571   \n",
       "...       ...                    ...       ...           ...          ...   \n",
       "32035316  ...         Average Orders         5  New customer    12.350000   \n",
       "32035317  ...            Most Orders         5  New customer    12.350000   \n",
       "32035318  ...            Most Orders         5  New customer    12.350000   \n",
       "32035319  ...            Most Orders         5  New customer    12.350000   \n",
       "32035320  ...         Average Orders         5  New customer    12.350000   \n",
       "\n",
       "          spending_flag  order_frequency         frequency_flag   region  \\\n",
       "299326      Low spender             26.0  Non-frequent customer    South   \n",
       "299327      Low spender             26.0  Non-frequent customer    South   \n",
       "299328      Low spender             26.0  Non-frequent customer    South   \n",
       "299329      Low spender             26.0  Non-frequent customer    South   \n",
       "299330      Low spender             26.0  Non-frequent customer    South   \n",
       "...                 ...              ...                    ...      ...   \n",
       "32035316   High spender              1.0      frequent customer  Midwest   \n",
       "32035317   High spender              1.0      frequent customer  Midwest   \n",
       "32035318   High spender              1.0      frequent customer  Midwest   \n",
       "32035319   High spender              1.0      frequent customer  Midwest   \n",
       "32035320   High spender              1.0      frequent customer  Midwest   \n",
       "\n",
       "         exclusion_flag customer_profile  \n",
       "299326          Include             None  \n",
       "299327          Include             None  \n",
       "299328          Include             None  \n",
       "299329          Include             None  \n",
       "299330          Include             None  \n",
       "...                 ...              ...  \n",
       "32035316        Include             None  \n",
       "32035317        Include             None  \n",
       "32035318        Include             None  \n",
       "32035319        Include             None  \n",
       "32035320        Include             None  \n",
       "\n",
       "[2035 rows x 30 columns]"
      ]
     },
     "execution_count": 27,
     "metadata": {},
     "output_type": "execute_result"
    }
   ],
   "source": [
    "df_NaN"
   ]
  },
  {
   "cell_type": "code",
   "execution_count": 28,
   "id": "33e73b9c",
   "metadata": {
    "scrolled": true
   },
   "outputs": [],
   "source": [
    "# Trying new condition to profile rest of the customers: Low income family\n",
    "final_df.loc[(final_df['age'] >40) & (final_df['age'] <= 64) & (final_df['income'] <= 270000) & (final_df['fam_status'].isin(['married', 'living with parents and siblings'])) & (final_df['n_dependants'].isin([1, 2, 3])), 'customer_profile'] = 'Low Income Family'"
   ]
  },
  {
   "cell_type": "code",
   "execution_count": 29,
   "id": "a609a589",
   "metadata": {},
   "outputs": [],
   "source": [
    "# Trying new condition to profile rest of the customers: Low income pensioner family\n",
    "final_df.loc[(final_df['age'] > 64) & (final_df['income'] <= 270000) & (final_df['fam_status'].isin(['married', 'living with parents and siblings'])) & (final_df['n_dependants'].isin([1, 2, 3])), 'customer_profile'] = 'Low Income Pensioner Family'"
   ]
  },
  {
   "cell_type": "code",
   "execution_count": 30,
   "id": "60dae041",
   "metadata": {},
   "outputs": [],
   "source": [
    "# Trying new condition to profile rest of the customers: Young Low income family\n",
    "final_df.loc[(final_df['age'] >= 18) & (final_df['age'] <=40) & (final_df['income'] <= 270000) & (final_df['fam_status'].isin(['married', 'living with parents and siblings'])) & (final_df['n_dependants'].isin([1, 2, 3])), 'customer_profile'] = 'Low Income Young Family'"
   ]
  },
  {
   "cell_type": "code",
   "execution_count": 31,
   "id": "deaac54e",
   "metadata": {
    "scrolled": true
   },
   "outputs": [],
   "source": [
    "# Trying new condition to profile rest of the customers: High income family\n",
    "final_df.loc[(final_df['age'] >40) & (final_df['age'] <= 64) & (final_df['income'] > 270000) & (final_df['fam_status'].isin(['married', 'living with parents and siblings'])) & (final_df['n_dependants'].isin([1, 2, 3])), 'customer_profile'] = 'High Income Family'"
   ]
  },
  {
   "cell_type": "code",
   "execution_count": 32,
   "id": "162327d4",
   "metadata": {},
   "outputs": [],
   "source": [
    "# Trying new condition to profile rest of the customers: Low income single adult\n",
    "final_df.loc[(final_df['age'] >40) & (final_df['age'] <= 64) & (final_df['income'] <= 270000) & (final_df['fam_status'].isin(['single', 'divorced/widowed'])) & (final_df['n_dependants'] == 0), 'customer_profile'] = 'Low Income Single Adult'"
   ]
  },
  {
   "cell_type": "code",
   "execution_count": 33,
   "id": "53719e22",
   "metadata": {},
   "outputs": [],
   "source": [
    "# Trying new condition to profile rest of the customers: Low income single Young adult\n",
    "final_df.loc[(final_df['age'] >= 18) & (final_df['age'] < 41) & (final_df['income'] <= 270000) & (final_df['fam_status'].isin(['single', 'divorced/widowed'])) & (final_df['n_dependants'] == 0), 'customer_profile'] = 'Low Income Single Young Adult'"
   ]
  },
  {
   "cell_type": "code",
   "execution_count": 34,
   "id": "0601e1c1",
   "metadata": {},
   "outputs": [],
   "source": [
    "# Trying new condition to profile rest of the customers: Low income pensioner\n",
    "final_df.loc[(final_df['age'] > 64) & (final_df['income'] <= 270000) & (final_df['fam_status'].isin(['single', 'divorced/widowed'])) & (final_df['n_dependants'] == 0), 'customer_profile'] = 'Low Income Pensioner'"
   ]
  },
  {
   "cell_type": "code",
   "execution_count": 35,
   "id": "ec688e0b",
   "metadata": {},
   "outputs": [
    {
     "data": {
      "text/plain": [
       "Low Income Family                 8631858\n",
       "Low Income Young Family           8347731\n",
       "Low Income Pensioner Family       6137359\n",
       "Low Income Single Adult           2915701\n",
       "Low Income Single Young Adult     2772158\n",
       "Low Income Pensioner              2010474\n",
       "High Income Family                  51265\n",
       "High Income Pensioner Family        36227\n",
       "High Income Single Adult            21763\n",
       "High Income Young Family            20443\n",
       "High Income Pensioner               11484\n",
       "High Income Single Young Adult       8101\n",
       "Name: customer_profile, dtype: int64"
      ]
     },
     "execution_count": 35,
     "metadata": {},
     "output_type": "execute_result"
    }
   ],
   "source": [
    "# Check new variable\n",
    "final_df['customer_profile'].value_counts(dropna = False)"
   ]
  },
  {
   "cell_type": "markdown",
   "id": "1208cb79",
   "metadata": {},
   "source": [
    "## Question 6: Visualise Customer Profile"
   ]
  },
  {
   "cell_type": "code",
   "execution_count": 36,
   "id": "b613ba3d",
   "metadata": {},
   "outputs": [],
   "source": [
    "sns.set(rc={'figure.figsize':(8,6)})\n",
    "sns.set_theme(style=\"darkgrid\")"
   ]
  },
  {
   "cell_type": "code",
   "execution_count": 37,
   "id": "74138930",
   "metadata": {},
   "outputs": [],
   "source": [
    "def show_values(axs, orient=\"v\", space=.01):\n",
    "    def _single(ax):\n",
    "        if orient == \"v\":\n",
    "            for p in ax.patches:\n",
    "                _x = p.get_x() + p.get_width() / 2\n",
    "                _y = p.get_y() + p.get_height() + (p.get_height()*0.01)\n",
    "                value = '{:.1f}'.format(p.get_height())\n",
    "                ax.text(_x, _y, value, ha=\"center\") \n",
    "        elif orient == \"h\":\n",
    "            for p in ax.patches:\n",
    "                _x = p.get_x() + p.get_width() + float(space)\n",
    "                _y = p.get_y() + p.get_height() - (p.get_height()*0.5)\n",
    "                value = '{:.1f}'.format(p.get_width())\n",
    "                ax.text(_x, _y, value, ha=\"left\")\n",
    "\n",
    "    if isinstance(axs, np.ndarray):\n",
    "        for idx, ax in np.ndenumerate(axs):\n",
    "            _single(ax)\n",
    "    else:\n",
    "        _single(axs)"
   ]
  },
  {
   "cell_type": "code",
   "execution_count": 38,
   "id": "020f4be4",
   "metadata": {},
   "outputs": [
    {
     "data": {
      "image/png": "[encoded data removed]",
      "text/plain": [
       "<Figure size 576x432 with 1 Axes>"
      ]
     },
     "metadata": {},
     "output_type": "display_data"
    }
   ],
   "source": [
    "# Create horizontal bar plot\n",
    "palette = sns.color_palette(\"Blues_d\",n_colors=12)\n",
    "palette.reverse()\n",
    "bar_cust = sns.countplot(y=\"customer_profile\", data = final_df, order = final_df['customer_profile'].value_counts().index, palette=palette ,)\n",
    "bar_cust.set(xscale=\"log\")\n",
    "bar_cust.set_title('Customer Profiles')\n",
    "bar_cust.set_xlabel('Number of Customers')\n",
    "#show values on barplot\n",
    "show_values(bar_cust, \"h\", space=0)"
   ]
  },
  {
   "cell_type": "markdown",
   "id": "f48b93d5",
   "metadata": {},
   "source": [
    "As can be seen from the visualisation, most customers are lower income families of all ages."
   ]
  },
  {
   "cell_type": "code",
   "execution_count": 39,
   "id": "1a1ef376",
   "metadata": {},
   "outputs": [],
   "source": [
    "bar_cust.figure.savefig(os.path.join(path, '04_Analysis','01_Visualisations', 'bar_customer_profile.png'))"
   ]
  },
  {
   "cell_type": "markdown",
   "id": "650a4e25",
   "metadata": {},
   "source": [
    "## Question 7 Basic Analysis of Customer Profiles"
   ]
  },
  {
   "cell_type": "code",
   "execution_count": 40,
   "id": "8ad319d6",
   "metadata": {},
   "outputs": [],
   "source": [
    "# Aggregate usage total (number of last order = max order numer = total number of times customers has ordered from instacart)\n",
    "cust_ord = final_df.groupby('customer_profile').agg({'order_number': ['mean', 'min', 'max']})"
   ]
  },
  {
   "cell_type": "code",
   "execution_count": 41,
   "id": "c8244220",
   "metadata": {},
   "outputs": [
    {
     "data": {
      "text/html": [
       "<div>\n",
       "<style scoped>\n",
       "    .dataframe tbody tr th:only-of-type {\n",
       "        vertical-align: middle;\n",
       "    }\n",
       "\n",
       "    .dataframe tbody tr th {\n",
       "        vertical-align: top;\n",
       "    }\n",
       "\n",
       "    .dataframe thead tr th {\n",
       "        text-align: left;\n",
       "    }\n",
       "\n",
       "    .dataframe thead tr:last-of-type th {\n",
       "        text-align: right;\n",
       "    }\n",
       "</style>\n",
       "<table border=\"1\" class=\"dataframe\">\n",
       "  <thead>\n",
       "    <tr>\n",
       "      <th></th>\n",
       "      <th colspan=\"3\" halign=\"left\">order_number</th>\n",
       "    </tr>\n",
       "    <tr>\n",
       "      <th></th>\n",
       "      <th>mean</th>\n",
       "      <th>min</th>\n",
       "      <th>max</th>\n",
       "    </tr>\n",
       "    <tr>\n",
       "      <th>customer_profile</th>\n",
       "      <th></th>\n",
       "      <th></th>\n",
       "      <th></th>\n",
       "    </tr>\n",
       "  </thead>\n",
       "  <tbody>\n",
       "    <tr>\n",
       "      <th>High Income Family</th>\n",
       "      <td>18.215586</td>\n",
       "      <td>1</td>\n",
       "      <td>99</td>\n",
       "    </tr>\n",
       "    <tr>\n",
       "      <th>High Income Pensioner</th>\n",
       "      <td>24.155695</td>\n",
       "      <td>1</td>\n",
       "      <td>99</td>\n",
       "    </tr>\n",
       "    <tr>\n",
       "      <th>High Income Pensioner Family</th>\n",
       "      <td>19.555718</td>\n",
       "      <td>1</td>\n",
       "      <td>85</td>\n",
       "    </tr>\n",
       "    <tr>\n",
       "      <th>High Income Single Adult</th>\n",
       "      <td>25.105500</td>\n",
       "      <td>1</td>\n",
       "      <td>99</td>\n",
       "    </tr>\n",
       "    <tr>\n",
       "      <th>High Income Single Young Adult</th>\n",
       "      <td>16.269473</td>\n",
       "      <td>1</td>\n",
       "      <td>53</td>\n",
       "    </tr>\n",
       "    <tr>\n",
       "      <th>High Income Young Family</th>\n",
       "      <td>18.865577</td>\n",
       "      <td>1</td>\n",
       "      <td>99</td>\n",
       "    </tr>\n",
       "    <tr>\n",
       "      <th>Low Income Family</th>\n",
       "      <td>17.692464</td>\n",
       "      <td>1</td>\n",
       "      <td>99</td>\n",
       "    </tr>\n",
       "    <tr>\n",
       "      <th>Low Income Pensioner</th>\n",
       "      <td>17.799738</td>\n",
       "      <td>1</td>\n",
       "      <td>99</td>\n",
       "    </tr>\n",
       "    <tr>\n",
       "      <th>Low Income Pensioner Family</th>\n",
       "      <td>17.757736</td>\n",
       "      <td>1</td>\n",
       "      <td>99</td>\n",
       "    </tr>\n",
       "    <tr>\n",
       "      <th>Low Income Single Adult</th>\n",
       "      <td>18.226838</td>\n",
       "      <td>1</td>\n",
       "      <td>99</td>\n",
       "    </tr>\n",
       "    <tr>\n",
       "      <th>Low Income Single Young Adult</th>\n",
       "      <td>17.712950</td>\n",
       "      <td>1</td>\n",
       "      <td>99</td>\n",
       "    </tr>\n",
       "    <tr>\n",
       "      <th>Low Income Young Family</th>\n",
       "      <td>17.909711</td>\n",
       "      <td>1</td>\n",
       "      <td>99</td>\n",
       "    </tr>\n",
       "  </tbody>\n",
       "</table>\n",
       "</div>"
      ],
      "text/plain": [
       "                               order_number        \n",
       "                                       mean min max\n",
       "customer_profile                                   \n",
       "High Income Family                18.215586   1  99\n",
       "High Income Pensioner             24.155695   1  99\n",
       "High Income Pensioner Family      19.555718   1  85\n",
       "High Income Single Adult          25.105500   1  99\n",
       "High Income Single Young Adult    16.269473   1  53\n",
       "High Income Young Family          18.865577   1  99\n",
       "Low Income Family                 17.692464   1  99\n",
       "Low Income Pensioner              17.799738   1  99\n",
       "Low Income Pensioner Family       17.757736   1  99\n",
       "Low Income Single Adult           18.226838   1  99\n",
       "Low Income Single Young Adult     17.712950   1  99\n",
       "Low Income Young Family           17.909711   1  99"
      ]
     },
     "execution_count": 41,
     "metadata": {},
     "output_type": "execute_result"
    }
   ],
   "source": [
    "cust_ord"
   ]
  },
  {
   "cell_type": "code",
   "execution_count": 42,
   "id": "6e916e44",
   "metadata": {},
   "outputs": [],
   "source": [
    "cust_ord.to_clipboard()"
   ]
  },
  {
   "cell_type": "code",
   "execution_count": 43,
   "id": "dd1cf97a",
   "metadata": {},
   "outputs": [],
   "source": [
    "# Aggregate usage frequency: How often do different customers order?\n",
    "# min, max, mean of days_since_prior_order\n",
    "custp_freq = final_df.groupby('customer_profile').agg({'days_since_prior_order': ['mean', 'min', 'max', 'median']})"
   ]
  },
  {
   "cell_type": "code",
   "execution_count": 44,
   "id": "f7e11878",
   "metadata": {},
   "outputs": [
    {
     "data": {
      "text/html": [
       "<div>\n",
       "<style scoped>\n",
       "    .dataframe tbody tr th:only-of-type {\n",
       "        vertical-align: middle;\n",
       "    }\n",
       "\n",
       "    .dataframe tbody tr th {\n",
       "        vertical-align: top;\n",
       "    }\n",
       "\n",
       "    .dataframe thead tr th {\n",
       "        text-align: left;\n",
       "    }\n",
       "\n",
       "    .dataframe thead tr:last-of-type th {\n",
       "        text-align: right;\n",
       "    }\n",
       "</style>\n",
       "<table border=\"1\" class=\"dataframe\">\n",
       "  <thead>\n",
       "    <tr>\n",
       "      <th></th>\n",
       "      <th colspan=\"4\" halign=\"left\">days_since_prior_order</th>\n",
       "    </tr>\n",
       "    <tr>\n",
       "      <th></th>\n",
       "      <th>mean</th>\n",
       "      <th>min</th>\n",
       "      <th>max</th>\n",
       "      <th>median</th>\n",
       "    </tr>\n",
       "    <tr>\n",
       "      <th>customer_profile</th>\n",
       "      <th></th>\n",
       "      <th></th>\n",
       "      <th></th>\n",
       "      <th></th>\n",
       "    </tr>\n",
       "  </thead>\n",
       "  <tbody>\n",
       "    <tr>\n",
       "      <th>High Income Family</th>\n",
       "      <td>10.075627</td>\n",
       "      <td>0.0</td>\n",
       "      <td>30.0</td>\n",
       "      <td>7.0</td>\n",
       "    </tr>\n",
       "    <tr>\n",
       "      <th>High Income Pensioner</th>\n",
       "      <td>8.932950</td>\n",
       "      <td>0.0</td>\n",
       "      <td>30.0</td>\n",
       "      <td>7.0</td>\n",
       "    </tr>\n",
       "    <tr>\n",
       "      <th>High Income Pensioner Family</th>\n",
       "      <td>9.910177</td>\n",
       "      <td>0.0</td>\n",
       "      <td>30.0</td>\n",
       "      <td>7.0</td>\n",
       "    </tr>\n",
       "    <tr>\n",
       "      <th>High Income Single Adult</th>\n",
       "      <td>8.686670</td>\n",
       "      <td>0.0</td>\n",
       "      <td>30.0</td>\n",
       "      <td>6.0</td>\n",
       "    </tr>\n",
       "    <tr>\n",
       "      <th>High Income Single Young Adult</th>\n",
       "      <td>10.940871</td>\n",
       "      <td>0.0</td>\n",
       "      <td>30.0</td>\n",
       "      <td>8.0</td>\n",
       "    </tr>\n",
       "    <tr>\n",
       "      <th>High Income Young Family</th>\n",
       "      <td>10.243653</td>\n",
       "      <td>0.0</td>\n",
       "      <td>30.0</td>\n",
       "      <td>7.0</td>\n",
       "    </tr>\n",
       "    <tr>\n",
       "      <th>Low Income Family</th>\n",
       "      <td>10.275548</td>\n",
       "      <td>0.0</td>\n",
       "      <td>30.0</td>\n",
       "      <td>7.0</td>\n",
       "    </tr>\n",
       "    <tr>\n",
       "      <th>Low Income Pensioner</th>\n",
       "      <td>10.198450</td>\n",
       "      <td>0.0</td>\n",
       "      <td>30.0</td>\n",
       "      <td>7.0</td>\n",
       "    </tr>\n",
       "    <tr>\n",
       "      <th>Low Income Pensioner Family</th>\n",
       "      <td>10.219419</td>\n",
       "      <td>0.0</td>\n",
       "      <td>30.0</td>\n",
       "      <td>7.0</td>\n",
       "    </tr>\n",
       "    <tr>\n",
       "      <th>Low Income Single Adult</th>\n",
       "      <td>10.145539</td>\n",
       "      <td>0.0</td>\n",
       "      <td>30.0</td>\n",
       "      <td>7.0</td>\n",
       "    </tr>\n",
       "    <tr>\n",
       "      <th>Low Income Single Young Adult</th>\n",
       "      <td>10.311272</td>\n",
       "      <td>0.0</td>\n",
       "      <td>30.0</td>\n",
       "      <td>7.0</td>\n",
       "    </tr>\n",
       "    <tr>\n",
       "      <th>Low Income Young Family</th>\n",
       "      <td>10.209382</td>\n",
       "      <td>0.0</td>\n",
       "      <td>30.0</td>\n",
       "      <td>7.0</td>\n",
       "    </tr>\n",
       "  </tbody>\n",
       "</table>\n",
       "</div>"
      ],
      "text/plain": [
       "                               days_since_prior_order                  \n",
       "                                                 mean  min   max median\n",
       "customer_profile                                                       \n",
       "High Income Family                          10.075627  0.0  30.0    7.0\n",
       "High Income Pensioner                        8.932950  0.0  30.0    7.0\n",
       "High Income Pensioner Family                 9.910177  0.0  30.0    7.0\n",
       "High Income Single Adult                     8.686670  0.0  30.0    6.0\n",
       "High Income Single Young Adult              10.940871  0.0  30.0    8.0\n",
       "High Income Young Family                    10.243653  0.0  30.0    7.0\n",
       "Low Income Family                           10.275548  0.0  30.0    7.0\n",
       "Low Income Pensioner                        10.198450  0.0  30.0    7.0\n",
       "Low Income Pensioner Family                 10.219419  0.0  30.0    7.0\n",
       "Low Income Single Adult                     10.145539  0.0  30.0    7.0\n",
       "Low Income Single Young Adult               10.311272  0.0  30.0    7.0\n",
       "Low Income Young Family                     10.209382  0.0  30.0    7.0"
      ]
     },
     "execution_count": 44,
     "metadata": {},
     "output_type": "execute_result"
    }
   ],
   "source": [
    "custp_freq"
   ]
  },
  {
   "cell_type": "code",
   "execution_count": 45,
   "id": "91059ad5",
   "metadata": {},
   "outputs": [],
   "source": [
    "# copy to clipboard\n",
    "custp_freq.to_clipboard()"
   ]
  },
  {
   "cell_type": "markdown",
   "id": "963d526e",
   "metadata": {},
   "source": [
    "It looks like high income pensioners and high income single adults order more frequently."
   ]
  },
  {
   "cell_type": "code",
   "execution_count": 46,
   "id": "d78c439c",
   "metadata": {},
   "outputs": [
    {
     "data": {
      "text/plain": [
       "99999.0"
      ]
     },
     "execution_count": 46,
     "metadata": {},
     "output_type": "execute_result"
    }
   ],
   "source": [
    "# Check prices max\n",
    "final_df['prices'].max()"
   ]
  },
  {
   "cell_type": "code",
   "execution_count": 47,
   "id": "c5ff9994",
   "metadata": {},
   "outputs": [],
   "source": [
    "# Change prices higher than 100 to NaN\n",
    "final_df.loc[final_df['prices'] >100, 'prices'] = np.nan"
   ]
  },
  {
   "cell_type": "code",
   "execution_count": 48,
   "id": "f73d1485",
   "metadata": {},
   "outputs": [
    {
     "data": {
      "text/plain": [
       "25.0"
      ]
     },
     "execution_count": 48,
     "metadata": {},
     "output_type": "execute_result"
    }
   ],
   "source": [
    "# Check prices max\n",
    "final_df['prices'].max()"
   ]
  },
  {
   "cell_type": "code",
   "execution_count": 49,
   "id": "0efb7fc9",
   "metadata": {},
   "outputs": [],
   "source": [
    "# Aggregate Expenditure: What is the price of items ordered by specific customers?\n",
    "# min, max, mean of prices\n",
    "custp_price = final_df.groupby('customer_profile').agg({'prices': ['mean', 'min', 'max', 'median']})"
   ]
  },
  {
   "cell_type": "code",
   "execution_count": 50,
   "id": "31a5c39f",
   "metadata": {},
   "outputs": [
    {
     "data": {
      "text/html": [
       "<div>\n",
       "<style scoped>\n",
       "    .dataframe tbody tr th:only-of-type {\n",
       "        vertical-align: middle;\n",
       "    }\n",
       "\n",
       "    .dataframe tbody tr th {\n",
       "        vertical-align: top;\n",
       "    }\n",
       "\n",
       "    .dataframe thead tr th {\n",
       "        text-align: left;\n",
       "    }\n",
       "\n",
       "    .dataframe thead tr:last-of-type th {\n",
       "        text-align: right;\n",
       "    }\n",
       "</style>\n",
       "<table border=\"1\" class=\"dataframe\">\n",
       "  <thead>\n",
       "    <tr>\n",
       "      <th></th>\n",
       "      <th colspan=\"4\" halign=\"left\">prices</th>\n",
       "    </tr>\n",
       "    <tr>\n",
       "      <th></th>\n",
       "      <th>mean</th>\n",
       "      <th>min</th>\n",
       "      <th>max</th>\n",
       "      <th>median</th>\n",
       "    </tr>\n",
       "    <tr>\n",
       "      <th>customer_profile</th>\n",
       "      <th></th>\n",
       "      <th></th>\n",
       "      <th></th>\n",
       "      <th></th>\n",
       "    </tr>\n",
       "  </thead>\n",
       "  <tbody>\n",
       "    <tr>\n",
       "      <th>High Income Family</th>\n",
       "      <td>7.765783</td>\n",
       "      <td>1.0</td>\n",
       "      <td>25.0</td>\n",
       "      <td>7.2</td>\n",
       "    </tr>\n",
       "    <tr>\n",
       "      <th>High Income Pensioner</th>\n",
       "      <td>7.733835</td>\n",
       "      <td>1.0</td>\n",
       "      <td>25.0</td>\n",
       "      <td>7.3</td>\n",
       "    </tr>\n",
       "    <tr>\n",
       "      <th>High Income Pensioner Family</th>\n",
       "      <td>7.793448</td>\n",
       "      <td>1.0</td>\n",
       "      <td>25.0</td>\n",
       "      <td>7.4</td>\n",
       "    </tr>\n",
       "    <tr>\n",
       "      <th>High Income Single Adult</th>\n",
       "      <td>7.897448</td>\n",
       "      <td>1.0</td>\n",
       "      <td>25.0</td>\n",
       "      <td>7.5</td>\n",
       "    </tr>\n",
       "    <tr>\n",
       "      <th>High Income Single Young Adult</th>\n",
       "      <td>7.796627</td>\n",
       "      <td>1.0</td>\n",
       "      <td>25.0</td>\n",
       "      <td>7.2</td>\n",
       "    </tr>\n",
       "    <tr>\n",
       "      <th>High Income Young Family</th>\n",
       "      <td>7.762175</td>\n",
       "      <td>1.0</td>\n",
       "      <td>25.0</td>\n",
       "      <td>7.2</td>\n",
       "    </tr>\n",
       "    <tr>\n",
       "      <th>Low Income Family</th>\n",
       "      <td>7.791575</td>\n",
       "      <td>1.0</td>\n",
       "      <td>25.0</td>\n",
       "      <td>7.4</td>\n",
       "    </tr>\n",
       "    <tr>\n",
       "      <th>Low Income Pensioner</th>\n",
       "      <td>7.802367</td>\n",
       "      <td>1.0</td>\n",
       "      <td>25.0</td>\n",
       "      <td>7.4</td>\n",
       "    </tr>\n",
       "    <tr>\n",
       "      <th>Low Income Pensioner Family</th>\n",
       "      <td>7.794999</td>\n",
       "      <td>1.0</td>\n",
       "      <td>25.0</td>\n",
       "      <td>7.4</td>\n",
       "    </tr>\n",
       "    <tr>\n",
       "      <th>Low Income Single Adult</th>\n",
       "      <td>7.789326</td>\n",
       "      <td>1.0</td>\n",
       "      <td>25.0</td>\n",
       "      <td>7.4</td>\n",
       "    </tr>\n",
       "    <tr>\n",
       "      <th>Low Income Single Young Adult</th>\n",
       "      <td>7.779857</td>\n",
       "      <td>1.0</td>\n",
       "      <td>25.0</td>\n",
       "      <td>7.4</td>\n",
       "    </tr>\n",
       "    <tr>\n",
       "      <th>Low Income Young Family</th>\n",
       "      <td>7.787502</td>\n",
       "      <td>1.0</td>\n",
       "      <td>25.0</td>\n",
       "      <td>7.4</td>\n",
       "    </tr>\n",
       "  </tbody>\n",
       "</table>\n",
       "</div>"
      ],
      "text/plain": [
       "                                  prices                  \n",
       "                                    mean  min   max median\n",
       "customer_profile                                          \n",
       "High Income Family              7.765783  1.0  25.0    7.2\n",
       "High Income Pensioner           7.733835  1.0  25.0    7.3\n",
       "High Income Pensioner Family    7.793448  1.0  25.0    7.4\n",
       "High Income Single Adult        7.897448  1.0  25.0    7.5\n",
       "High Income Single Young Adult  7.796627  1.0  25.0    7.2\n",
       "High Income Young Family        7.762175  1.0  25.0    7.2\n",
       "Low Income Family               7.791575  1.0  25.0    7.4\n",
       "Low Income Pensioner            7.802367  1.0  25.0    7.4\n",
       "Low Income Pensioner Family     7.794999  1.0  25.0    7.4\n",
       "Low Income Single Adult         7.789326  1.0  25.0    7.4\n",
       "Low Income Single Young Adult   7.779857  1.0  25.0    7.4\n",
       "Low Income Young Family         7.787502  1.0  25.0    7.4"
      ]
     },
     "execution_count": 50,
     "metadata": {},
     "output_type": "execute_result"
    }
   ],
   "source": [
    "custp_price"
   ]
  },
  {
   "cell_type": "code",
   "execution_count": 51,
   "id": "da84698e",
   "metadata": {},
   "outputs": [],
   "source": [
    "# Copy to clipboard\n",
    "custp_price.to_clipboard()"
   ]
  },
  {
   "cell_type": "markdown",
   "id": "ad9e3481",
   "metadata": {},
   "source": [
    "## Question 8: Crosstab of Customer Profile in different Regions"
   ]
  },
  {
   "cell_type": "code",
   "execution_count": 52,
   "id": "a3ad67ce",
   "metadata": {},
   "outputs": [],
   "source": [
    "# Create crosstab to analyse customer profiles in different regions\n",
    "crosstab_1 = pd.crosstab(final_df['customer_profile'], final_df['region'], dropna = False)"
   ]
  },
  {
   "cell_type": "code",
   "execution_count": 53,
   "id": "04fcb590",
   "metadata": {
    "scrolled": false
   },
   "outputs": [
    {
     "data": {
      "text/html": [
       "<div>\n",
       "<style scoped>\n",
       "    .dataframe tbody tr th:only-of-type {\n",
       "        vertical-align: middle;\n",
       "    }\n",
       "\n",
       "    .dataframe tbody tr th {\n",
       "        vertical-align: top;\n",
       "    }\n",
       "\n",
       "    .dataframe thead th {\n",
       "        text-align: right;\n",
       "    }\n",
       "</style>\n",
       "<table border=\"1\" class=\"dataframe\">\n",
       "  <thead>\n",
       "    <tr style=\"text-align: right;\">\n",
       "      <th>region</th>\n",
       "      <th>Midwest</th>\n",
       "      <th>Northeast</th>\n",
       "      <th>South</th>\n",
       "      <th>West</th>\n",
       "    </tr>\n",
       "    <tr>\n",
       "      <th>customer_profile</th>\n",
       "      <th></th>\n",
       "      <th></th>\n",
       "      <th></th>\n",
       "      <th></th>\n",
       "    </tr>\n",
       "  </thead>\n",
       "  <tbody>\n",
       "    <tr>\n",
       "      <th>High Income Family</th>\n",
       "      <td>15750</td>\n",
       "      <td>9603</td>\n",
       "      <td>12606</td>\n",
       "      <td>13306</td>\n",
       "    </tr>\n",
       "    <tr>\n",
       "      <th>High Income Pensioner</th>\n",
       "      <td>3177</td>\n",
       "      <td>3096</td>\n",
       "      <td>4147</td>\n",
       "      <td>1064</td>\n",
       "    </tr>\n",
       "    <tr>\n",
       "      <th>High Income Pensioner Family</th>\n",
       "      <td>9807</td>\n",
       "      <td>5159</td>\n",
       "      <td>12585</td>\n",
       "      <td>8676</td>\n",
       "    </tr>\n",
       "    <tr>\n",
       "      <th>High Income Single Adult</th>\n",
       "      <td>3831</td>\n",
       "      <td>3770</td>\n",
       "      <td>9432</td>\n",
       "      <td>4730</td>\n",
       "    </tr>\n",
       "    <tr>\n",
       "      <th>High Income Single Young Adult</th>\n",
       "      <td>4608</td>\n",
       "      <td>1622</td>\n",
       "      <td>1609</td>\n",
       "      <td>262</td>\n",
       "    </tr>\n",
       "    <tr>\n",
       "      <th>High Income Young Family</th>\n",
       "      <td>3984</td>\n",
       "      <td>2354</td>\n",
       "      <td>9300</td>\n",
       "      <td>4805</td>\n",
       "    </tr>\n",
       "    <tr>\n",
       "      <th>Low Income Family</th>\n",
       "      <td>2044336</td>\n",
       "      <td>1530419</td>\n",
       "      <td>2839116</td>\n",
       "      <td>2217987</td>\n",
       "    </tr>\n",
       "    <tr>\n",
       "      <th>Low Income Pensioner</th>\n",
       "      <td>466904</td>\n",
       "      <td>375743</td>\n",
       "      <td>653590</td>\n",
       "      <td>514237</td>\n",
       "    </tr>\n",
       "    <tr>\n",
       "      <th>Low Income Pensioner Family</th>\n",
       "      <td>1424158</td>\n",
       "      <td>1100809</td>\n",
       "      <td>2038139</td>\n",
       "      <td>1574253</td>\n",
       "    </tr>\n",
       "    <tr>\n",
       "      <th>Low Income Single Adult</th>\n",
       "      <td>702346</td>\n",
       "      <td>482201</td>\n",
       "      <td>966496</td>\n",
       "      <td>764658</td>\n",
       "    </tr>\n",
       "    <tr>\n",
       "      <th>Low Income Single Young Adult</th>\n",
       "      <td>641950</td>\n",
       "      <td>488050</td>\n",
       "      <td>946659</td>\n",
       "      <td>695499</td>\n",
       "    </tr>\n",
       "    <tr>\n",
       "      <th>Low Income Young Family</th>\n",
       "      <td>1940662</td>\n",
       "      <td>1461859</td>\n",
       "      <td>2817460</td>\n",
       "      <td>2127750</td>\n",
       "    </tr>\n",
       "  </tbody>\n",
       "</table>\n",
       "</div>"
      ],
      "text/plain": [
       "region                          Midwest  Northeast    South     West\n",
       "customer_profile                                                    \n",
       "High Income Family                15750       9603    12606    13306\n",
       "High Income Pensioner              3177       3096     4147     1064\n",
       "High Income Pensioner Family       9807       5159    12585     8676\n",
       "High Income Single Adult           3831       3770     9432     4730\n",
       "High Income Single Young Adult     4608       1622     1609      262\n",
       "High Income Young Family           3984       2354     9300     4805\n",
       "Low Income Family               2044336    1530419  2839116  2217987\n",
       "Low Income Pensioner             466904     375743   653590   514237\n",
       "Low Income Pensioner Family     1424158    1100809  2038139  1574253\n",
       "Low Income Single Adult          702346     482201   966496   764658\n",
       "Low Income Single Young Adult    641950     488050   946659   695499\n",
       "Low Income Young Family         1940662    1461859  2817460  2127750"
      ]
     },
     "execution_count": 53,
     "metadata": {},
     "output_type": "execute_result"
    }
   ],
   "source": [
    "crosstab_1"
   ]
  },
  {
   "cell_type": "code",
   "execution_count": 48,
   "id": "94e7da4b",
   "metadata": {},
   "outputs": [],
   "source": [
    "crosstab_1.to_clipboard()"
   ]
  },
  {
   "cell_type": "markdown",
   "id": "56a15c6f",
   "metadata": {},
   "source": [
    "## Question 9: Further Analyses"
   ]
  },
  {
   "cell_type": "markdown",
   "id": "7aa6ece7",
   "metadata": {},
   "source": [
    "### Customers organised by Frequency of Orders"
   ]
  },
  {
   "cell_type": "code",
   "execution_count": 91,
   "id": "06cc5335",
   "metadata": {
    "scrolled": true
   },
   "outputs": [
    {
     "data": {
      "text/plain": [
       "Text(0.5, 0, 'Frequency Flag')"
      ]
     },
     "execution_count": 91,
     "metadata": {},
     "output_type": "execute_result"
    },
    {
     "data": {
      "image/png": "[encoded data removed]",
      "text/plain": [
       "<Figure size 576x432 with 1 Axes>"
      ]
     },
     "metadata": {},
     "output_type": "display_data"
    }
   ],
   "source": [
    "# Frequency flag bar\n",
    "bar_freq = sns.countplot(x=\"frequency_flag\", data = final_df, order = final_df['frequency_flag'].value_counts().index, color='#356689')\n",
    "bar_freq.set_title('Customer Order Frequency')\n",
    "bar_freq.set_ylabel('Number of Customers')\n",
    "bar_freq.set_xlabel('Frequency Flag')"
   ]
  },
  {
   "cell_type": "code",
   "execution_count": 92,
   "id": "e0a93792",
   "metadata": {},
   "outputs": [],
   "source": [
    "bar_freq.figure.savefig(os.path.join(path, '04_Analysis','01_Visualisations', 'bar_freq.png'))"
   ]
  },
  {
   "cell_type": "markdown",
   "id": "5cd32abb",
   "metadata": {},
   "source": [
    "### Most popular departments"
   ]
  },
  {
   "cell_type": "code",
   "execution_count": 75,
   "id": "ce2546c5",
   "metadata": {},
   "outputs": [
    {
     "data": {
      "image/png": "[encoded data removed]",
      "text/plain": [
       "<Figure size 576x432 with 1 Axes>"
      ]
     },
     "metadata": {},
     "output_type": "display_data"
    }
   ],
   "source": [
    "# Most popular department\n",
    "palette = sns.color_palette(\"Blues_d\",n_colors=21)\n",
    "palette.reverse()\n",
    "pop_dep = sns.countplot(y=\"department_id\", data = final_df, order = final_df['department_id'].value_counts().index, palette = palette)\n",
    "pop_dep.set(xscale=\"log\")\n",
    "pop_dep.set_title('Most Popular Department')\n",
    "pop_dep.set_xlabel('Number of orders')\n",
    "pop_dep.set_ylabel('Department ID')\n",
    "#show values on barplot\n",
    "show_values(pop_dep, \"h\", space=0)"
   ]
  },
  {
   "cell_type": "code",
   "execution_count": 76,
   "id": "336fa48c",
   "metadata": {},
   "outputs": [],
   "source": [
    "# Save figure\n",
    "pop_dep.figure.savefig(os.path.join(path, '04_Analysis','01_Visualisations', 'pop_dep.png'))"
   ]
  },
  {
   "cell_type": "markdown",
   "id": "e42fa7de",
   "metadata": {},
   "source": [
    "### Analysis by Region: Loyalty &  Spending Habits"
   ]
  },
  {
   "cell_type": "code",
   "execution_count": 93,
   "id": "5bba5ba1",
   "metadata": {},
   "outputs": [
    {
     "data": {
      "text/plain": [
       "Text(0, 0.5, 'Region')"
      ]
     },
     "execution_count": 93,
     "metadata": {},
     "output_type": "execute_result"
    },
    {
     "data": {
      "image/png": "[encoded data removed]",
      "text/plain": [
       "<Figure size 576x432 with 1 Axes>"
      ]
     },
     "metadata": {},
     "output_type": "display_data"
    }
   ],
   "source": [
    "# Comparison of loyalty in different regions\n",
    "loyalty_region = sns.countplot(y='region', data = final_df, order = final_df['region'].value_counts().index, hue = 'loyalty_flag', palette = 'Blues_d')\n",
    "loyalty_region.set_title('Customer Loyalty in Different Regions')\n",
    "loyalty_region.set_xlabel('Number of Customers')\n",
    "loyalty_region.set_ylabel('Region')"
   ]
  },
  {
   "cell_type": "code",
   "execution_count": 94,
   "id": "060c4c1d",
   "metadata": {},
   "outputs": [],
   "source": [
    "# Save figure\n",
    "loyalty_region.figure.savefig(os.path.join(path, '04_Analysis','01_Visualisations', 'loyalty_per_region1.png'))"
   ]
  },
  {
   "cell_type": "code",
   "execution_count": 95,
   "id": "8b5f6e24",
   "metadata": {},
   "outputs": [
    {
     "data": {
      "text/plain": [
       "Text(10.625, 0.5, 'Region')"
      ]
     },
     "execution_count": 95,
     "metadata": {},
     "output_type": "execute_result"
    },
    {
     "data": {
      "image/png": "[encoded data removed]",
      "text/plain": [
       "<Figure size 576x432 with 1 Axes>"
      ]
     },
     "metadata": {},
     "output_type": "display_data"
    }
   ],
   "source": [
    "# Comparison of spending habits in different regions\n",
    "spending_region = sns.countplot(y='region', data = final_df, order = final_df['region'].value_counts().index, hue = 'spending_flag', palette = 'Blues_d')\n",
    "spending_region.set_title('Spending Habits in Different Regions')\n",
    "spending_region.set_xlabel('Number of Customers')\n",
    "loyalty_region.set_ylabel('Region')"
   ]
  },
  {
   "cell_type": "code",
   "execution_count": 96,
   "id": "6f788c28",
   "metadata": {},
   "outputs": [],
   "source": [
    "# Save figure\n",
    "spending_region.figure.savefig(os.path.join(path, '04_Analysis','01_Visualisations', 'spending_per_region1.png'))"
   ]
  },
  {
   "cell_type": "code",
   "execution_count": 97,
   "id": "06730691",
   "metadata": {},
   "outputs": [],
   "source": [
    "# Crosstab of spending per region\n",
    "crosstab = pd.crosstab(final_df['region'], final_df['spending_flag'], dropna = False)"
   ]
  },
  {
   "cell_type": "code",
   "execution_count": 98,
   "id": "80718a88",
   "metadata": {
    "scrolled": true
   },
   "outputs": [
    {
     "data": {
      "image/png": "[encoded data removed]",
      "text/plain": [
       "<Figure size 576x432 with 1 Axes>"
      ]
     },
     "metadata": {},
     "output_type": "display_data"
    }
   ],
   "source": [
    "# Stacked bar of spending by region\n",
    "xtab_stacked = crosstab.plot.bar(color =['#88b9da', '#356689'], title = 'Spending Habits per Region', xlabel= 'Region', ylabel= 'Number of Customers', stacked = True)\n",
    "plt.xticks(rotation=90, ha='center')\n",
    "plt.tight_layout()"
   ]
  },
  {
   "cell_type": "code",
   "execution_count": 99,
   "id": "0afd46b1",
   "metadata": {},
   "outputs": [],
   "source": [
    "# Save figure\n",
    "xtab_stacked.figure.savefig(os.path.join(path, '04_Analysis','01_Visualisations', 'spending_per_region_stacked.png'))"
   ]
  },
  {
   "cell_type": "markdown",
   "id": "49a1767e",
   "metadata": {},
   "source": [
    "### Order Habits by Loyalty: Spending Habits; Frequency of Orders"
   ]
  },
  {
   "cell_type": "code",
   "execution_count": 43,
   "id": "35515ea3",
   "metadata": {},
   "outputs": [],
   "source": [
    "# Spending habits based on loyalty\n",
    "spending_xtab = pd.crosstab(final_df['loyalty_flag'], final_df['spending_flag'], dropna = False)"
   ]
  },
  {
   "cell_type": "code",
   "execution_count": 44,
   "id": "65452826",
   "metadata": {},
   "outputs": [
    {
     "data": {
      "text/html": [
       "<div>\n",
       "<style scoped>\n",
       "    .dataframe tbody tr th:only-of-type {\n",
       "        vertical-align: middle;\n",
       "    }\n",
       "\n",
       "    .dataframe tbody tr th {\n",
       "        vertical-align: top;\n",
       "    }\n",
       "\n",
       "    .dataframe thead th {\n",
       "        text-align: right;\n",
       "    }\n",
       "</style>\n",
       "<table border=\"1\" class=\"dataframe\">\n",
       "  <thead>\n",
       "    <tr style=\"text-align: right;\">\n",
       "      <th>spending_flag</th>\n",
       "      <th>High spender</th>\n",
       "      <th>Low spender</th>\n",
       "    </tr>\n",
       "    <tr>\n",
       "      <th>loyalty_flag</th>\n",
       "      <th></th>\n",
       "      <th></th>\n",
       "    </tr>\n",
       "  </thead>\n",
       "  <tbody>\n",
       "    <tr>\n",
       "      <th>Loyal customer</th>\n",
       "      <td>216600</td>\n",
       "      <td>10067493</td>\n",
       "    </tr>\n",
       "    <tr>\n",
       "      <th>New customer</th>\n",
       "      <td>84011</td>\n",
       "      <td>4719684</td>\n",
       "    </tr>\n",
       "    <tr>\n",
       "      <th>Regular customer</th>\n",
       "      <td>302814</td>\n",
       "      <td>15573962</td>\n",
       "    </tr>\n",
       "  </tbody>\n",
       "</table>\n",
       "</div>"
      ],
      "text/plain": [
       "spending_flag     High spender  Low spender\n",
       "loyalty_flag                               \n",
       "Loyal customer          216600     10067493\n",
       "New customer             84011      4719684\n",
       "Regular customer        302814     15573962"
      ]
     },
     "execution_count": 44,
     "metadata": {},
     "output_type": "execute_result"
    }
   ],
   "source": [
    "spending_xtab"
   ]
  },
  {
   "cell_type": "code",
   "execution_count": 64,
   "id": "b88831fc",
   "metadata": {},
   "outputs": [
    {
     "data": {
      "image/png": "[encoded data removed]",
      "text/plain": [
       "<Figure size 576x432 with 1 Axes>"
      ]
     },
     "metadata": {},
     "output_type": "display_data"
    }
   ],
   "source": [
    "spending_xtab_stacked = spending_xtab.plot.bar(color =['#88b9da', '#356689'], title = 'Spending Habits per Loyalty', xlabel= 'Type of Customer', ylabel= 'Number of Customers', stacked = True)\n",
    "plt.xticks(rotation=0, ha='center')\n",
    "plt.tight_layout()"
   ]
  },
  {
   "cell_type": "code",
   "execution_count": 65,
   "id": "7933c403",
   "metadata": {},
   "outputs": [],
   "source": [
    "# Save figure\n",
    "spending_xtab_stacked.figure.savefig(os.path.join(path, '04_Analysis','01_Visualisations', 'spending_per_loyalty_stacked.png'))"
   ]
  },
  {
   "cell_type": "code",
   "execution_count": 47,
   "id": "863c5f59",
   "metadata": {},
   "outputs": [],
   "source": [
    "# Order Frequency based on loyalty\n",
    "frequency_loyalty_xtab = pd.crosstab(final_df['loyalty_flag'], final_df['frequency_flag'], dropna = False)"
   ]
  },
  {
   "cell_type": "code",
   "execution_count": 48,
   "id": "67ce325a",
   "metadata": {},
   "outputs": [
    {
     "data": {
      "text/html": [
       "<div>\n",
       "<style scoped>\n",
       "    .dataframe tbody tr th:only-of-type {\n",
       "        vertical-align: middle;\n",
       "    }\n",
       "\n",
       "    .dataframe tbody tr th {\n",
       "        vertical-align: top;\n",
       "    }\n",
       "\n",
       "    .dataframe thead th {\n",
       "        text-align: right;\n",
       "    }\n",
       "</style>\n",
       "<table border=\"1\" class=\"dataframe\">\n",
       "  <thead>\n",
       "    <tr style=\"text-align: right;\">\n",
       "      <th>frequency_flag</th>\n",
       "      <th>Non-frequent customer</th>\n",
       "      <th>Regular customer</th>\n",
       "      <th>frequent customer</th>\n",
       "    </tr>\n",
       "    <tr>\n",
       "      <th>loyalty_flag</th>\n",
       "      <th></th>\n",
       "      <th></th>\n",
       "      <th></th>\n",
       "    </tr>\n",
       "  </thead>\n",
       "  <tbody>\n",
       "    <tr>\n",
       "      <th>Loyal customer</th>\n",
       "      <td>0</td>\n",
       "      <td>2518</td>\n",
       "      <td>10281575</td>\n",
       "    </tr>\n",
       "    <tr>\n",
       "      <th>New customer</th>\n",
       "      <td>1526642</td>\n",
       "      <td>1616851</td>\n",
       "      <td>1660202</td>\n",
       "    </tr>\n",
       "    <tr>\n",
       "      <th>Regular customer</th>\n",
       "      <td>660775</td>\n",
       "      <td>4948884</td>\n",
       "      <td>10267117</td>\n",
       "    </tr>\n",
       "  </tbody>\n",
       "</table>\n",
       "</div>"
      ],
      "text/plain": [
       "frequency_flag    Non-frequent customer  Regular customer  frequent customer\n",
       "loyalty_flag                                                                \n",
       "Loyal customer                        0              2518           10281575\n",
       "New customer                    1526642           1616851            1660202\n",
       "Regular customer                 660775           4948884           10267117"
      ]
     },
     "execution_count": 48,
     "metadata": {},
     "output_type": "execute_result"
    }
   ],
   "source": [
    "frequency_loyalty_xtab"
   ]
  },
  {
   "cell_type": "code",
   "execution_count": 66,
   "id": "1c44312a",
   "metadata": {},
   "outputs": [
    {
     "data": {
      "image/png": "[encoded data removed]",
      "text/plain": [
       "<Figure size 576x432 with 1 Axes>"
      ]
     },
     "metadata": {},
     "output_type": "display_data"
    }
   ],
   "source": [
    "# Stacked bar of ordering habits by loyalty status\n",
    "frequency_loy_xtab_stacked = frequency_loyalty_xtab.plot.bar(color =['#88b9da', '#5298c9', '#356689'], title = 'Ordering Habits per Loyalty', xlabel= 'Type of Customer', ylabel= 'Number of Customers', stacked = True)\n",
    "plt.xticks(rotation=0, ha='center')\n",
    "plt.tight_layout()"
   ]
  },
  {
   "cell_type": "code",
   "execution_count": 67,
   "id": "4d9a2434",
   "metadata": {},
   "outputs": [],
   "source": [
    "# Save figure\n",
    "frequency_loy_xtab_stacked.figure.savefig(os.path.join(path, '04_Analysis','01_Visualisations', 'order_freq_per_loyalty_stacked.png'))"
   ]
  },
  {
   "cell_type": "markdown",
   "id": "be686cb7",
   "metadata": {},
   "source": [
    "### Order habits based on family status: Spending & Order Frequency"
   ]
  },
  {
   "cell_type": "code",
   "execution_count": 138,
   "id": "8f3dc003",
   "metadata": {},
   "outputs": [],
   "source": [
    "# spending habits based on family status\n",
    "xtab_fam_spend = pd.crosstab(final_df1['fam_status'], final_df['spending_flag'], dropna = False)"
   ]
  },
  {
   "cell_type": "code",
   "execution_count": 139,
   "id": "7f8eb0a1",
   "metadata": {},
   "outputs": [
    {
     "data": {
      "text/html": [
       "<div>\n",
       "<style scoped>\n",
       "    .dataframe tbody tr th:only-of-type {\n",
       "        vertical-align: middle;\n",
       "    }\n",
       "\n",
       "    .dataframe tbody tr th {\n",
       "        vertical-align: top;\n",
       "    }\n",
       "\n",
       "    .dataframe thead th {\n",
       "        text-align: right;\n",
       "    }\n",
       "</style>\n",
       "<table border=\"1\" class=\"dataframe\">\n",
       "  <thead>\n",
       "    <tr style=\"text-align: right;\">\n",
       "      <th>spending_flag</th>\n",
       "      <th>High spender</th>\n",
       "      <th>Low spender</th>\n",
       "    </tr>\n",
       "    <tr>\n",
       "      <th>fam_status</th>\n",
       "      <th></th>\n",
       "      <th></th>\n",
       "    </tr>\n",
       "  </thead>\n",
       "  <tbody>\n",
       "    <tr>\n",
       "      <th>divorced/widowed</th>\n",
       "      <td>50321</td>\n",
       "      <td>2594950</td>\n",
       "    </tr>\n",
       "    <tr>\n",
       "      <th>living with parents and siblings</th>\n",
       "      <td>27926</td>\n",
       "      <td>1453246</td>\n",
       "    </tr>\n",
       "    <tr>\n",
       "      <th>married</th>\n",
       "      <td>429457</td>\n",
       "      <td>21314254</td>\n",
       "    </tr>\n",
       "    <tr>\n",
       "      <th>single</th>\n",
       "      <td>95721</td>\n",
       "      <td>4998689</td>\n",
       "    </tr>\n",
       "  </tbody>\n",
       "</table>\n",
       "</div>"
      ],
      "text/plain": [
       "spending_flag                     High spender  Low spender\n",
       "fam_status                                                 \n",
       "divorced/widowed                         50321      2594950\n",
       "living with parents and siblings         27926      1453246\n",
       "married                                 429457     21314254\n",
       "single                                   95721      4998689"
      ]
     },
     "execution_count": 139,
     "metadata": {},
     "output_type": "execute_result"
    }
   ],
   "source": [
    "xtab_fam_spend"
   ]
  },
  {
   "cell_type": "code",
   "execution_count": 141,
   "id": "034d7503",
   "metadata": {
    "scrolled": true
   },
   "outputs": [
    {
     "data": {
      "image/png": "[encoded data removed]",
      "text/plain": [
       "<Figure size 576x432 with 1 Axes>"
      ]
     },
     "metadata": {},
     "output_type": "display_data"
    }
   ],
   "source": [
    "# Stacked Bar of spending habits by Family Status\n",
    "fam_spend = xtab_fam_spend.plot.bar(color =['#88b9da', '#356689', '#344048'], title = 'Spending by Family Status', xlabel= 'Customer Profile', ylabel= 'Number of Customers', stacked = True)\n",
    "plt.xticks(rotation= 0, ha='center')\n",
    "plt.tight_layout()"
   ]
  },
  {
   "cell_type": "code",
   "execution_count": 142,
   "id": "a38b5f0e",
   "metadata": {},
   "outputs": [],
   "source": [
    "# Save figure\n",
    "fam_spend.figure.savefig(os.path.join(path, '04_Analysis','01_Visualisations', 'fam_spend.png'))"
   ]
  },
  {
   "cell_type": "code",
   "execution_count": 106,
   "id": "485d902c",
   "metadata": {},
   "outputs": [
    {
     "data": {
      "text/plain": [
       "Text(0.5, 0, 'Number of Customers')"
      ]
     },
     "execution_count": 106,
     "metadata": {},
     "output_type": "execute_result"
    },
    {
     "data": {
      "image/png": "[encoded data removed]",
      "text/plain": [
       "<Figure size 576x432 with 1 Axes>"
      ]
     },
     "metadata": {},
     "output_type": "display_data"
    }
   ],
   "source": [
    "# Bar Chart of Spending per family status\n",
    "spending_fam = sns.countplot(y='fam_status', data = final_df, order = final_df['fam_status'].value_counts().index, hue = 'spending_flag', palette = 'Blues_d')\n",
    "spending_fam.set_title('Spending Habits of Customers with Different Family Dynamics')\n",
    "spending_fam.set_xlabel('Number of Customers')"
   ]
  },
  {
   "cell_type": "code",
   "execution_count": 107,
   "id": "1118d86e",
   "metadata": {},
   "outputs": [],
   "source": [
    "# Save figure\n",
    "spending_fam.figure.savefig(os.path.join(path, '04_Analysis','01_Visualisations', 'spending_per_fam_status.png'))"
   ]
  },
  {
   "cell_type": "code",
   "execution_count": 104,
   "id": "a9eb2a87",
   "metadata": {},
   "outputs": [
    {
     "data": {
      "text/plain": [
       "Text(0.5, 0, 'Number of Customers')"
      ]
     },
     "execution_count": 104,
     "metadata": {},
     "output_type": "execute_result"
    },
    {
     "data": {
      "image/png": "[encoded data removed]",
      "text/plain": [
       "<Figure size 576x432 with 1 Axes>"
      ]
     },
     "metadata": {},
     "output_type": "display_data"
    }
   ],
   "source": [
    "# Bar Chart of Frequency per family status\n",
    "frequency_fam = sns.countplot(y='fam_status', data = final_df, order = final_df['fam_status'].value_counts().index, hue = 'frequency_flag', palette = 'Blues_d')\n",
    "frequency_fam.set_title('Frequency of Customers with Different Family Dynamics')\n",
    "frequency_fam.set_xlabel('Number of Customers')"
   ]
  },
  {
   "cell_type": "code",
   "execution_count": 105,
   "id": "ca0b0ecb",
   "metadata": {},
   "outputs": [],
   "source": [
    "# Save figure\n",
    "frequency_fam.figure.savefig(os.path.join(path, '04_Analysis','01_Visualisations', 'frequency_per_fam_status1.png'))"
   ]
  },
  {
   "cell_type": "markdown",
   "id": "710340ac",
   "metadata": {},
   "source": [
    "### Frequency of Orders in Different Regions"
   ]
  },
  {
   "cell_type": "code",
   "execution_count": 108,
   "id": "2bf1f3bf",
   "metadata": {},
   "outputs": [
    {
     "data": {
      "text/plain": [
       "Text(0.5, 0, 'Number of Customers')"
      ]
     },
     "execution_count": 108,
     "metadata": {},
     "output_type": "execute_result"
    },
    {
     "data": {
      "image/png": "[encoded data removed]",
      "text/plain": [
       "<Figure size 576x432 with 1 Axes>"
      ]
     },
     "metadata": {},
     "output_type": "display_data"
    }
   ],
   "source": [
    "# Comparison of frequency in different regions\n",
    "frequency_region = sns.countplot(y='region', data = final_df, order = final_df['region'].value_counts().index, hue = 'frequency_flag', palette = 'Blues_d')\n",
    "frequency_region.set_title('Frequency in Different Regions')\n",
    "frequency_region.set_xlabel('Number of Customers')"
   ]
  },
  {
   "cell_type": "code",
   "execution_count": 109,
   "id": "76952ff3",
   "metadata": {},
   "outputs": [],
   "source": [
    "# Save figure\n",
    "frequency_region.figure.savefig(os.path.join(path, '04_Analysis','01_Visualisations', 'frequency_per_region.png'))"
   ]
  },
  {
   "cell_type": "markdown",
   "id": "b244435a",
   "metadata": {},
   "source": [
    "### Analysis of Customer Profiles"
   ]
  },
  {
   "cell_type": "code",
   "execution_count": 110,
   "id": "acd66e87",
   "metadata": {},
   "outputs": [],
   "source": [
    "#spending habits of customers\n",
    "xtab_cust_price = pd.crosstab(final_df['customer_profile'], final_df['price_range_loc'], dropna = False)"
   ]
  },
  {
   "cell_type": "code",
   "execution_count": 111,
   "id": "e712bbbc",
   "metadata": {},
   "outputs": [
    {
     "data": {
      "text/html": [
       "<div>\n",
       "<style scoped>\n",
       "    .dataframe tbody tr th:only-of-type {\n",
       "        vertical-align: middle;\n",
       "    }\n",
       "\n",
       "    .dataframe tbody tr th {\n",
       "        vertical-align: top;\n",
       "    }\n",
       "\n",
       "    .dataframe thead th {\n",
       "        text-align: right;\n",
       "    }\n",
       "</style>\n",
       "<table border=\"1\" class=\"dataframe\">\n",
       "  <thead>\n",
       "    <tr style=\"text-align: right;\">\n",
       "      <th>price_range_loc</th>\n",
       "      <th>High-range Product</th>\n",
       "      <th>Low-range Product</th>\n",
       "      <th>Mid-range Product</th>\n",
       "    </tr>\n",
       "    <tr>\n",
       "      <th>customer_profile</th>\n",
       "      <th></th>\n",
       "      <th></th>\n",
       "      <th></th>\n",
       "    </tr>\n",
       "  </thead>\n",
       "  <tbody>\n",
       "    <tr>\n",
       "      <th>High Income Family</th>\n",
       "      <td>1250</td>\n",
       "      <td>15892</td>\n",
       "      <td>34123</td>\n",
       "    </tr>\n",
       "    <tr>\n",
       "      <th>High Income Pensioner</th>\n",
       "      <td>240</td>\n",
       "      <td>3592</td>\n",
       "      <td>7652</td>\n",
       "    </tr>\n",
       "    <tr>\n",
       "      <th>High Income Pensioner Family</th>\n",
       "      <td>787</td>\n",
       "      <td>11297</td>\n",
       "      <td>24143</td>\n",
       "    </tr>\n",
       "    <tr>\n",
       "      <th>High Income Single Adult</th>\n",
       "      <td>408</td>\n",
       "      <td>6562</td>\n",
       "      <td>14793</td>\n",
       "    </tr>\n",
       "    <tr>\n",
       "      <th>High Income Single Young Adult</th>\n",
       "      <td>184</td>\n",
       "      <td>2457</td>\n",
       "      <td>5460</td>\n",
       "    </tr>\n",
       "    <tr>\n",
       "      <th>High Income Young Family</th>\n",
       "      <td>604</td>\n",
       "      <td>6409</td>\n",
       "      <td>13430</td>\n",
       "    </tr>\n",
       "    <tr>\n",
       "      <th>Low Income Family</th>\n",
       "      <td>111121</td>\n",
       "      <td>2699714</td>\n",
       "      <td>5821023</td>\n",
       "    </tr>\n",
       "    <tr>\n",
       "      <th>Low Income Pensioner</th>\n",
       "      <td>26143</td>\n",
       "      <td>627913</td>\n",
       "      <td>1356418</td>\n",
       "    </tr>\n",
       "    <tr>\n",
       "      <th>Low Income Pensioner Family</th>\n",
       "      <td>79745</td>\n",
       "      <td>1916297</td>\n",
       "      <td>4141317</td>\n",
       "    </tr>\n",
       "    <tr>\n",
       "      <th>Low Income Single Adult</th>\n",
       "      <td>36109</td>\n",
       "      <td>909492</td>\n",
       "      <td>1970100</td>\n",
       "    </tr>\n",
       "    <tr>\n",
       "      <th>Low Income Single Young Adult</th>\n",
       "      <td>34371</td>\n",
       "      <td>869222</td>\n",
       "      <td>1868565</td>\n",
       "    </tr>\n",
       "    <tr>\n",
       "      <th>Low Income Young Family</th>\n",
       "      <td>106991</td>\n",
       "      <td>2605993</td>\n",
       "      <td>5634747</td>\n",
       "    </tr>\n",
       "  </tbody>\n",
       "</table>\n",
       "</div>"
      ],
      "text/plain": [
       "price_range_loc                 High-range Product  Low-range Product  \\\n",
       "customer_profile                                                        \n",
       "High Income Family                            1250              15892   \n",
       "High Income Pensioner                          240               3592   \n",
       "High Income Pensioner Family                   787              11297   \n",
       "High Income Single Adult                       408               6562   \n",
       "High Income Single Young Adult                 184               2457   \n",
       "High Income Young Family                       604               6409   \n",
       "Low Income Family                           111121            2699714   \n",
       "Low Income Pensioner                         26143             627913   \n",
       "Low Income Pensioner Family                  79745            1916297   \n",
       "Low Income Single Adult                      36109             909492   \n",
       "Low Income Single Young Adult                34371             869222   \n",
       "Low Income Young Family                     106991            2605993   \n",
       "\n",
       "price_range_loc                 Mid-range Product  \n",
       "customer_profile                                   \n",
       "High Income Family                          34123  \n",
       "High Income Pensioner                        7652  \n",
       "High Income Pensioner Family                24143  \n",
       "High Income Single Adult                    14793  \n",
       "High Income Single Young Adult               5460  \n",
       "High Income Young Family                    13430  \n",
       "Low Income Family                         5821023  \n",
       "Low Income Pensioner                      1356418  \n",
       "Low Income Pensioner Family               4141317  \n",
       "Low Income Single Adult                   1970100  \n",
       "Low Income Single Young Adult             1868565  \n",
       "Low Income Young Family                   5634747  "
      ]
     },
     "execution_count": 111,
     "metadata": {},
     "output_type": "execute_result"
    }
   ],
   "source": [
    "xtab_cust_price"
   ]
  },
  {
   "cell_type": "code",
   "execution_count": 112,
   "id": "6ea1d765",
   "metadata": {
    "scrolled": true
   },
   "outputs": [
    {
     "data": {
      "image/png": "[encoded data removed]",
      "text/plain": [
       "<Figure size 576x432 with 1 Axes>"
      ]
     },
     "metadata": {},
     "output_type": "display_data"
    }
   ],
   "source": [
    "# Price range of items bought by different customer profiles\n",
    "cust_price = xtab_cust_price.plot.bar(color =['#88b9da', '#356689', '#344048'], title = 'Price Range of Products by Customer Profiles', xlabel= 'Customer Profile', ylabel= 'No. of products', stacked = True)\n",
    "plt.xticks(rotation=90, ha='center')\n",
    "plt.tight_layout()\n",
    "plt.yscale(\"log\")"
   ]
  },
  {
   "cell_type": "code",
   "execution_count": 113,
   "id": "b8891a03",
   "metadata": {},
   "outputs": [],
   "source": [
    "cust_price.figure.savefig(os.path.join(path, '04_Analysis','01_Visualisations', 'cust_price1.png'))"
   ]
  },
  {
   "cell_type": "code",
   "execution_count": 72,
   "id": "91212fa3",
   "metadata": {},
   "outputs": [],
   "source": [
    "xtab_cust_price.to_clipboard()"
   ]
  },
  {
   "cell_type": "code",
   "execution_count": 114,
   "id": "f8c771ad",
   "metadata": {},
   "outputs": [],
   "source": [
    "# Crosstab for ordering frequency by customer profiles\n",
    "xtab_cust_freq = pd.crosstab(final_df['customer_profile'], final_df['frequency_flag'], dropna = False)"
   ]
  },
  {
   "cell_type": "code",
   "execution_count": 115,
   "id": "f302ddfd",
   "metadata": {
    "scrolled": true
   },
   "outputs": [
    {
     "data": {
      "text/html": [
       "<div>\n",
       "<style scoped>\n",
       "    .dataframe tbody tr th:only-of-type {\n",
       "        vertical-align: middle;\n",
       "    }\n",
       "\n",
       "    .dataframe tbody tr th {\n",
       "        vertical-align: top;\n",
       "    }\n",
       "\n",
       "    .dataframe thead th {\n",
       "        text-align: right;\n",
       "    }\n",
       "</style>\n",
       "<table border=\"1\" class=\"dataframe\">\n",
       "  <thead>\n",
       "    <tr style=\"text-align: right;\">\n",
       "      <th>frequency_flag</th>\n",
       "      <th>Non-frequent customer</th>\n",
       "      <th>Regular customer</th>\n",
       "      <th>frequent customer</th>\n",
       "    </tr>\n",
       "    <tr>\n",
       "      <th>customer_profile</th>\n",
       "      <th></th>\n",
       "      <th></th>\n",
       "      <th></th>\n",
       "    </tr>\n",
       "  </thead>\n",
       "  <tbody>\n",
       "    <tr>\n",
       "      <th>High Income Family</th>\n",
       "      <td>2728</td>\n",
       "      <td>10777</td>\n",
       "      <td>37760</td>\n",
       "    </tr>\n",
       "    <tr>\n",
       "      <th>High Income Pensioner</th>\n",
       "      <td>270</td>\n",
       "      <td>2006</td>\n",
       "      <td>9208</td>\n",
       "    </tr>\n",
       "    <tr>\n",
       "      <th>High Income Pensioner Family</th>\n",
       "      <td>842</td>\n",
       "      <td>8745</td>\n",
       "      <td>26640</td>\n",
       "    </tr>\n",
       "    <tr>\n",
       "      <th>High Income Single Adult</th>\n",
       "      <td>330</td>\n",
       "      <td>6030</td>\n",
       "      <td>15403</td>\n",
       "    </tr>\n",
       "    <tr>\n",
       "      <th>High Income Single Young Adult</th>\n",
       "      <td>552</td>\n",
       "      <td>1290</td>\n",
       "      <td>6259</td>\n",
       "    </tr>\n",
       "    <tr>\n",
       "      <th>High Income Young Family</th>\n",
       "      <td>684</td>\n",
       "      <td>4850</td>\n",
       "      <td>14909</td>\n",
       "    </tr>\n",
       "    <tr>\n",
       "      <th>Low Income Family</th>\n",
       "      <td>621935</td>\n",
       "      <td>1830640</td>\n",
       "      <td>6179283</td>\n",
       "    </tr>\n",
       "    <tr>\n",
       "      <th>Low Income Pensioner</th>\n",
       "      <td>142384</td>\n",
       "      <td>421953</td>\n",
       "      <td>1446137</td>\n",
       "    </tr>\n",
       "    <tr>\n",
       "      <th>Low Income Pensioner Family</th>\n",
       "      <td>430904</td>\n",
       "      <td>1293313</td>\n",
       "      <td>4413142</td>\n",
       "    </tr>\n",
       "    <tr>\n",
       "      <th>Low Income Single Adult</th>\n",
       "      <td>202447</td>\n",
       "      <td>612664</td>\n",
       "      <td>2100590</td>\n",
       "    </tr>\n",
       "    <tr>\n",
       "      <th>Low Income Single Young Adult</th>\n",
       "      <td>194127</td>\n",
       "      <td>611546</td>\n",
       "      <td>1966485</td>\n",
       "    </tr>\n",
       "    <tr>\n",
       "      <th>Low Income Young Family</th>\n",
       "      <td>590214</td>\n",
       "      <td>1764439</td>\n",
       "      <td>5993078</td>\n",
       "    </tr>\n",
       "  </tbody>\n",
       "</table>\n",
       "</div>"
      ],
      "text/plain": [
       "frequency_flag                  Non-frequent customer  Regular customer  \\\n",
       "customer_profile                                                          \n",
       "High Income Family                               2728             10777   \n",
       "High Income Pensioner                             270              2006   \n",
       "High Income Pensioner Family                      842              8745   \n",
       "High Income Single Adult                          330              6030   \n",
       "High Income Single Young Adult                    552              1290   \n",
       "High Income Young Family                          684              4850   \n",
       "Low Income Family                              621935           1830640   \n",
       "Low Income Pensioner                           142384            421953   \n",
       "Low Income Pensioner Family                    430904           1293313   \n",
       "Low Income Single Adult                        202447            612664   \n",
       "Low Income Single Young Adult                  194127            611546   \n",
       "Low Income Young Family                        590214           1764439   \n",
       "\n",
       "frequency_flag                  frequent customer  \n",
       "customer_profile                                   \n",
       "High Income Family                          37760  \n",
       "High Income Pensioner                        9208  \n",
       "High Income Pensioner Family                26640  \n",
       "High Income Single Adult                    15403  \n",
       "High Income Single Young Adult               6259  \n",
       "High Income Young Family                    14909  \n",
       "Low Income Family                         6179283  \n",
       "Low Income Pensioner                      1446137  \n",
       "Low Income Pensioner Family               4413142  \n",
       "Low Income Single Adult                   2100590  \n",
       "Low Income Single Young Adult             1966485  \n",
       "Low Income Young Family                   5993078  "
      ]
     },
     "execution_count": 115,
     "metadata": {},
     "output_type": "execute_result"
    }
   ],
   "source": [
    "xtab_cust_freq"
   ]
  },
  {
   "cell_type": "code",
   "execution_count": 116,
   "id": "27740bf1",
   "metadata": {
    "scrolled": false
   },
   "outputs": [
    {
     "data": {
      "image/png": "[encoded data removed]",
      "text/plain": [
       "<Figure size 576x432 with 1 Axes>"
      ]
     },
     "metadata": {},
     "output_type": "display_data"
    }
   ],
   "source": [
    "# Stacked bar chart of order frequenct bu customer profile\n",
    "cust_frequency = xtab_cust_freq.plot.bar(color =['#88b9da', '#356689', '#344048'], title = 'Frequency of Orders per Customer Profile', xlabel= 'Customer Profile', ylabel= 'Number of Customers', stacked = True)\n",
    "plt.xticks(rotation= 90, ha='center')\n",
    "plt.tight_layout()\n",
    "plt.yscale(\"log\")"
   ]
  },
  {
   "cell_type": "code",
   "execution_count": 117,
   "id": "3691ff6c",
   "metadata": {},
   "outputs": [],
   "source": [
    "# Save Figure\n",
    "cust_frequency.figure.savefig(os.path.join(path, '04_Analysis','01_Visualisations', 'cust_frequency.png'))"
   ]
  },
  {
   "cell_type": "code",
   "execution_count": 56,
   "id": "d7116ecf",
   "metadata": {},
   "outputs": [
    {
     "data": {
      "image/png": "[encoded data removed]",
      "text/plain": [
       "<Figure size 576x432 with 1 Axes>"
      ]
     },
     "metadata": {},
     "output_type": "display_data"
    }
   ],
   "source": [
    "# Create stacked bar chart of crosstab_1 (Question 8)\n",
    "region_cust_profile = crosstab_1.plot.bar(color =['#88b9da', '#5298c9', '#356689', '#344048'], title = 'Customer Profiles in Different Regions', ylabel= 'Number of Customers', xlabel= 'Customer Profile', stacked = True)\n",
    "plt.xticks(rotation=90, ha='center')\n",
    "plt.tight_layout()\n",
    "plt.yscale(\"log\")"
   ]
  },
  {
   "cell_type": "code",
   "execution_count": 57,
   "id": "ccf96b9d",
   "metadata": {},
   "outputs": [],
   "source": [
    "# Save Figure\n",
    "region_cust_profile.figure.savefig(os.path.join(path, '04_Analysis','01_Visualisations', 'region_cust_profile.png'))"
   ]
  },
  {
   "cell_type": "code",
   "execution_count": 58,
   "id": "9d19a717",
   "metadata": {},
   "outputs": [],
   "source": [
    "# Crosstab for ordering frequency by customer profiles\n",
    "xtab_cust_spend = pd.crosstab(final_df['customer_profile'], final_df['spending_flag'], dropna = False)"
   ]
  },
  {
   "cell_type": "code",
   "execution_count": 59,
   "id": "cf2e431d",
   "metadata": {
    "scrolled": true
   },
   "outputs": [
    {
     "data": {
      "text/html": [
       "<div>\n",
       "<style scoped>\n",
       "    .dataframe tbody tr th:only-of-type {\n",
       "        vertical-align: middle;\n",
       "    }\n",
       "\n",
       "    .dataframe tbody tr th {\n",
       "        vertical-align: top;\n",
       "    }\n",
       "\n",
       "    .dataframe thead th {\n",
       "        text-align: right;\n",
       "    }\n",
       "</style>\n",
       "<table border=\"1\" class=\"dataframe\">\n",
       "  <thead>\n",
       "    <tr style=\"text-align: right;\">\n",
       "      <th>spending_flag</th>\n",
       "      <th>High spender</th>\n",
       "      <th>Low spender</th>\n",
       "    </tr>\n",
       "    <tr>\n",
       "      <th>customer_profile</th>\n",
       "      <th></th>\n",
       "      <th></th>\n",
       "    </tr>\n",
       "  </thead>\n",
       "  <tbody>\n",
       "    <tr>\n",
       "      <th>High Income Family</th>\n",
       "      <td>51265</td>\n",
       "      <td>0</td>\n",
       "    </tr>\n",
       "    <tr>\n",
       "      <th>High Income Pensioner</th>\n",
       "      <td>11484</td>\n",
       "      <td>0</td>\n",
       "    </tr>\n",
       "    <tr>\n",
       "      <th>High Income Pensioner Family</th>\n",
       "      <td>36227</td>\n",
       "      <td>0</td>\n",
       "    </tr>\n",
       "    <tr>\n",
       "      <th>High Income Single Adult</th>\n",
       "      <td>21763</td>\n",
       "      <td>0</td>\n",
       "    </tr>\n",
       "    <tr>\n",
       "      <th>High Income Single Young Adult</th>\n",
       "      <td>8101</td>\n",
       "      <td>0</td>\n",
       "    </tr>\n",
       "    <tr>\n",
       "      <th>High Income Young Family</th>\n",
       "      <td>20443</td>\n",
       "      <td>0</td>\n",
       "    </tr>\n",
       "    <tr>\n",
       "      <th>Low Income Family</th>\n",
       "      <td>127082</td>\n",
       "      <td>8504776</td>\n",
       "    </tr>\n",
       "    <tr>\n",
       "      <th>Low Income Pensioner</th>\n",
       "      <td>30184</td>\n",
       "      <td>1980290</td>\n",
       "    </tr>\n",
       "    <tr>\n",
       "      <th>Low Income Pensioner Family</th>\n",
       "      <td>78991</td>\n",
       "      <td>6058368</td>\n",
       "    </tr>\n",
       "    <tr>\n",
       "      <th>Low Income Single Adult</th>\n",
       "      <td>36085</td>\n",
       "      <td>2879616</td>\n",
       "    </tr>\n",
       "    <tr>\n",
       "      <th>Low Income Single Young Adult</th>\n",
       "      <td>38425</td>\n",
       "      <td>2733733</td>\n",
       "    </tr>\n",
       "    <tr>\n",
       "      <th>Low Income Young Family</th>\n",
       "      <td>143375</td>\n",
       "      <td>8204356</td>\n",
       "    </tr>\n",
       "  </tbody>\n",
       "</table>\n",
       "</div>"
      ],
      "text/plain": [
       "spending_flag                   High spender  Low spender\n",
       "customer_profile                                         \n",
       "High Income Family                     51265            0\n",
       "High Income Pensioner                  11484            0\n",
       "High Income Pensioner Family           36227            0\n",
       "High Income Single Adult               21763            0\n",
       "High Income Single Young Adult          8101            0\n",
       "High Income Young Family               20443            0\n",
       "Low Income Family                     127082      8504776\n",
       "Low Income Pensioner                   30184      1980290\n",
       "Low Income Pensioner Family            78991      6058368\n",
       "Low Income Single Adult                36085      2879616\n",
       "Low Income Single Young Adult          38425      2733733\n",
       "Low Income Young Family               143375      8204356"
      ]
     },
     "execution_count": 59,
     "metadata": {},
     "output_type": "execute_result"
    }
   ],
   "source": [
    "xtab_cust_spend"
   ]
  },
  {
   "cell_type": "code",
   "execution_count": 62,
   "id": "6e511eba",
   "metadata": {},
   "outputs": [],
   "source": [
    "xtab_cust_spend.to_clipboard()"
   ]
  },
  {
   "cell_type": "markdown",
   "id": "6ef1e092",
   "metadata": {},
   "source": [
    "### Further Wrangling and Analyses"
   ]
  },
  {
   "cell_type": "code",
   "execution_count": 118,
   "id": "03489c42",
   "metadata": {},
   "outputs": [],
   "source": [
    "# Drop exclusion flag\n",
    "final_df1 = final_df.drop(columns = ['exclusion_flag'])"
   ]
  },
  {
   "cell_type": "code",
   "execution_count": 119,
   "id": "aabeca17",
   "metadata": {},
   "outputs": [],
   "source": [
    "#Create Age Range\n",
    "final_df1.loc[(final_df1['age'] >=18) & (final_df1['age'] <=40), 'age_range'] = 'Young Adult'"
   ]
  },
  {
   "cell_type": "code",
   "execution_count": 120,
   "id": "3ce205c3",
   "metadata": {},
   "outputs": [],
   "source": [
    "final_df1.loc[(final_df1['age'] >40) & (final_df1['age'] <=64), 'age_range'] = 'Adult'"
   ]
  },
  {
   "cell_type": "code",
   "execution_count": 121,
   "id": "c3bb1b70",
   "metadata": {},
   "outputs": [],
   "source": [
    "final_df1.loc[(final_df1['age'] >64), 'age_range'] = 'Pensioner'"
   ]
  },
  {
   "cell_type": "code",
   "execution_count": 122,
   "id": "02d7130d",
   "metadata": {},
   "outputs": [
    {
     "data": {
      "text/html": [
       "<div>\n",
       "<style scoped>\n",
       "    .dataframe tbody tr th:only-of-type {\n",
       "        vertical-align: middle;\n",
       "    }\n",
       "\n",
       "    .dataframe tbody tr th {\n",
       "        vertical-align: top;\n",
       "    }\n",
       "\n",
       "    .dataframe thead th {\n",
       "        text-align: right;\n",
       "    }\n",
       "</style>\n",
       "<table border=\"1\" class=\"dataframe\">\n",
       "  <thead>\n",
       "    <tr style=\"text-align: right;\">\n",
       "      <th></th>\n",
       "      <th>user_id</th>\n",
       "      <th>age</th>\n",
       "      <th>age_range</th>\n",
       "    </tr>\n",
       "  </thead>\n",
       "  <tbody>\n",
       "    <tr>\n",
       "      <th>0</th>\n",
       "      <td>26711</td>\n",
       "      <td>48</td>\n",
       "      <td>Adult</td>\n",
       "    </tr>\n",
       "    <tr>\n",
       "      <th>1</th>\n",
       "      <td>26711</td>\n",
       "      <td>48</td>\n",
       "      <td>Adult</td>\n",
       "    </tr>\n",
       "    <tr>\n",
       "      <th>2</th>\n",
       "      <td>26711</td>\n",
       "      <td>48</td>\n",
       "      <td>Adult</td>\n",
       "    </tr>\n",
       "    <tr>\n",
       "      <th>3</th>\n",
       "      <td>26711</td>\n",
       "      <td>48</td>\n",
       "      <td>Adult</td>\n",
       "    </tr>\n",
       "    <tr>\n",
       "      <th>4</th>\n",
       "      <td>26711</td>\n",
       "      <td>48</td>\n",
       "      <td>Adult</td>\n",
       "    </tr>\n",
       "    <tr>\n",
       "      <th>...</th>\n",
       "      <td>...</td>\n",
       "      <td>...</td>\n",
       "      <td>...</td>\n",
       "    </tr>\n",
       "    <tr>\n",
       "      <th>32404813</th>\n",
       "      <td>135902</td>\n",
       "      <td>66</td>\n",
       "      <td>Pensioner</td>\n",
       "    </tr>\n",
       "    <tr>\n",
       "      <th>32404814</th>\n",
       "      <td>135902</td>\n",
       "      <td>66</td>\n",
       "      <td>Pensioner</td>\n",
       "    </tr>\n",
       "    <tr>\n",
       "      <th>32404815</th>\n",
       "      <td>135902</td>\n",
       "      <td>66</td>\n",
       "      <td>Pensioner</td>\n",
       "    </tr>\n",
       "    <tr>\n",
       "      <th>32404816</th>\n",
       "      <td>135902</td>\n",
       "      <td>66</td>\n",
       "      <td>Pensioner</td>\n",
       "    </tr>\n",
       "    <tr>\n",
       "      <th>32404817</th>\n",
       "      <td>135902</td>\n",
       "      <td>66</td>\n",
       "      <td>Pensioner</td>\n",
       "    </tr>\n",
       "  </tbody>\n",
       "</table>\n",
       "<p>30964564 rows × 3 columns</p>\n",
       "</div>"
      ],
      "text/plain": [
       "         user_id  age  age_range\n",
       "0          26711   48      Adult\n",
       "1          26711   48      Adult\n",
       "2          26711   48      Adult\n",
       "3          26711   48      Adult\n",
       "4          26711   48      Adult\n",
       "...          ...  ...        ...\n",
       "32404813  135902   66  Pensioner\n",
       "32404814  135902   66  Pensioner\n",
       "32404815  135902   66  Pensioner\n",
       "32404816  135902   66  Pensioner\n",
       "32404817  135902   66  Pensioner\n",
       "\n",
       "[30964564 rows x 3 columns]"
      ]
     },
     "execution_count": 122,
     "metadata": {},
     "output_type": "execute_result"
    }
   ],
   "source": [
    "# Check Age Range flag\n",
    "final_df1[['user_id', 'age', 'age_range']]"
   ]
  },
  {
   "cell_type": "markdown",
   "id": "bcedc1c3",
   "metadata": {},
   "source": [
    "### Analyses by Age"
   ]
  },
  {
   "cell_type": "code",
   "execution_count": 125,
   "id": "e02ae4d9",
   "metadata": {
    "scrolled": false
   },
   "outputs": [
    {
     "data": {
      "text/plain": [
       "Text(0.5, 0, 'Number of Customers')"
      ]
     },
     "execution_count": 125,
     "metadata": {},
     "output_type": "execute_result"
    },
    {
     "data": {
      "image/png": "[encoded data removed]",
      "text/plain": [
       "<Figure size 576x432 with 1 Axes>"
      ]
     },
     "metadata": {},
     "output_type": "display_data"
    }
   ],
   "source": [
    "# Does Age influence frequency?\n",
    "fre_age = sns.countplot(y='age_range', data = final_df1, order = final_df1['age_range'].value_counts().index, hue = 'frequency_flag', palette = 'Blues_d')\n",
    "fre_age.set_title('Frequency by Age')\n",
    "fre_age.set_xlabel('Number of Customers')"
   ]
  },
  {
   "cell_type": "code",
   "execution_count": null,
   "id": "ea67cbcb",
   "metadata": {},
   "outputs": [],
   "source": [
    "# Save Figure\n",
    "fre_age.figure.savefig(os.path.join(path, '04_Analysis','01_Visualisations', 'fre_age.png'))"
   ]
  },
  {
   "cell_type": "code",
   "execution_count": 128,
   "id": "de5d220e",
   "metadata": {},
   "outputs": [],
   "source": [
    "# Crosstab for spending by age\n",
    "xtab_age_spend = pd.crosstab(final_df1['age_range'], final_df1['spending_flag'], dropna = False)"
   ]
  },
  {
   "cell_type": "code",
   "execution_count": 129,
   "id": "1bb662de",
   "metadata": {
    "scrolled": true
   },
   "outputs": [
    {
     "data": {
      "text/html": [
       "<div>\n",
       "<style scoped>\n",
       "    .dataframe tbody tr th:only-of-type {\n",
       "        vertical-align: middle;\n",
       "    }\n",
       "\n",
       "    .dataframe tbody tr th {\n",
       "        vertical-align: top;\n",
       "    }\n",
       "\n",
       "    .dataframe thead th {\n",
       "        text-align: right;\n",
       "    }\n",
       "</style>\n",
       "<table border=\"1\" class=\"dataframe\">\n",
       "  <thead>\n",
       "    <tr style=\"text-align: right;\">\n",
       "      <th>spending_flag</th>\n",
       "      <th>High spender</th>\n",
       "      <th>Low spender</th>\n",
       "    </tr>\n",
       "    <tr>\n",
       "      <th>age_range</th>\n",
       "      <th></th>\n",
       "      <th></th>\n",
       "    </tr>\n",
       "  </thead>\n",
       "  <tbody>\n",
       "    <tr>\n",
       "      <th>Adult</th>\n",
       "      <td>236195</td>\n",
       "      <td>11384392</td>\n",
       "    </tr>\n",
       "    <tr>\n",
       "      <th>Pensioner</th>\n",
       "      <td>156886</td>\n",
       "      <td>8038658</td>\n",
       "    </tr>\n",
       "    <tr>\n",
       "      <th>Young Adult</th>\n",
       "      <td>210344</td>\n",
       "      <td>10938089</td>\n",
       "    </tr>\n",
       "  </tbody>\n",
       "</table>\n",
       "</div>"
      ],
      "text/plain": [
       "spending_flag  High spender  Low spender\n",
       "age_range                               \n",
       "Adult                236195     11384392\n",
       "Pensioner            156886      8038658\n",
       "Young Adult          210344     10938089"
      ]
     },
     "execution_count": 129,
     "metadata": {},
     "output_type": "execute_result"
    }
   ],
   "source": [
    "xtab_age_spend"
   ]
  },
  {
   "cell_type": "code",
   "execution_count": 145,
   "id": "ee0198ba",
   "metadata": {},
   "outputs": [
    {
     "data": {
      "image/png": "[encoded data removed]",
      "text/plain": [
       "<Figure size 576x432 with 1 Axes>"
      ]
     },
     "metadata": {},
     "output_type": "display_data"
    }
   ],
   "source": [
    "# Stacked Bar Chart of Spending by age\n",
    "age_spend = xtab_age_spend.plot.bar(color =['#88b9da', '#356689', '#344048'], title = 'Spending by Age', xlabel= 'Customer Profile', ylabel= 'Number of Customers', stacked = True)\n",
    "plt.xticks(rotation= 0, ha='center')\n",
    "plt.tight_layout()"
   ]
  },
  {
   "cell_type": "code",
   "execution_count": 146,
   "id": "0072b438",
   "metadata": {},
   "outputs": [],
   "source": [
    "# Save figure\n",
    "age_spend.figure.savefig(os.path.join(path, '04_Analysis','01_Visualisations', 'age_spend.png'))"
   ]
  },
  {
   "cell_type": "markdown",
   "id": "4d50d5a8",
   "metadata": {},
   "source": [
    "### Question 10"
   ]
  },
  {
   "cell_type": "code",
   "execution_count": 96,
   "id": "3e2ea718",
   "metadata": {},
   "outputs": [],
   "source": [
    "#Export final df\n",
    "final_df1.to_pickle(os.path.join(path, '02_Data', '02_Prepared_Data', 'Final Data Frame.pkl'))"
   ]
  },
  {
   "cell_type": "code",
   "execution_count": null,
   "id": "c99fe2ae",
   "metadata": {},
   "outputs": [],
   "source": []
  }
 ],
 "metadata": {
  "kernelspec": {
   "display_name": "Python 3 (ipykernel)",
   "language": "python",
   "name": "python3"
  },
  "language_info": {
   "codemirror_mode": {
    "name": "ipython",
    "version": 3
   },
   "file_extension": ".py",
   "mimetype": "text/x-python",
   "name": "python",
   "nbconvert_exporter": "python",
   "pygments_lexer": "ipython3",
   "version": "3.9.7"
  }
 },
 "nbformat": 4,
 "nbformat_minor": 5
}
