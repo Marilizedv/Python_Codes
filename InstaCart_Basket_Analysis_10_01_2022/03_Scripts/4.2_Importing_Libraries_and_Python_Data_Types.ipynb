{
 "cells": [
  {
   "cell_type": "markdown",
   "id": "88a5c753",
   "metadata": {},
   "source": [
    "# 01. Importing Libraries"
   ]
  },
  {
   "cell_type": "code",
   "execution_count": 1,
   "id": "e012107c",
   "metadata": {},
   "outputs": [],
   "source": [
    "#import libraries\n",
    "import pandas as pd\n",
    "import numpy as np\n",
    "import os"
   ]
  },
  {
   "cell_type": "markdown",
   "id": "4fed83f8",
   "metadata": {},
   "source": [
    "# 02.Python Data Types"
   ]
  },
  {
   "cell_type": "code",
   "execution_count": 19,
   "id": "a7cb0451",
   "metadata": {},
   "outputs": [
    {
     "data": {
      "text/plain": [
       "100"
      ]
     },
     "execution_count": 19,
     "metadata": {},
     "output_type": "execute_result"
    }
   ],
   "source": [
    "50 + 50"
   ]
  },
  {
   "cell_type": "code",
   "execution_count": 20,
   "id": "d5afe153",
   "metadata": {},
   "outputs": [
    {
     "data": {
      "text/plain": [
       "100"
      ]
     },
     "execution_count": 20,
     "metadata": {},
     "output_type": "execute_result"
    }
   ],
   "source": [
    "150 - 50"
   ]
  },
  {
   "cell_type": "code",
   "execution_count": 21,
   "id": "3d10a781",
   "metadata": {},
   "outputs": [
    {
     "data": {
      "text/plain": [
       "100"
      ]
     },
     "execution_count": 21,
     "metadata": {},
     "output_type": "execute_result"
    }
   ],
   "source": [
    "75 + 25"
   ]
  },
  {
   "cell_type": "code",
   "execution_count": 22,
   "id": "def71e1b",
   "metadata": {},
   "outputs": [],
   "source": [
    "x = 75.5"
   ]
  },
  {
   "cell_type": "code",
   "execution_count": 23,
   "id": "8b52ccee",
   "metadata": {},
   "outputs": [],
   "source": [
    "y = 0.25"
   ]
  },
  {
   "cell_type": "code",
   "execution_count": 24,
   "id": "d454659f",
   "metadata": {},
   "outputs": [
    {
     "data": {
      "text/plain": [
       "302.0"
      ]
     },
     "execution_count": 24,
     "metadata": {},
     "output_type": "execute_result"
    }
   ],
   "source": [
    "x / y"
   ]
  },
  {
   "cell_type": "code",
   "execution_count": 25,
   "id": "902c17ea",
   "metadata": {},
   "outputs": [
    {
     "data": {
      "text/plain": [
       "0.0033112582781456954"
      ]
     },
     "execution_count": 25,
     "metadata": {},
     "output_type": "execute_result"
    }
   ],
   "source": [
    "y / x"
   ]
  },
  {
   "cell_type": "code",
   "execution_count": 27,
   "id": "d3dd4141",
   "metadata": {},
   "outputs": [],
   "source": [
    "z = 'car'"
   ]
  },
  {
   "cell_type": "code",
   "execution_count": 28,
   "id": "b13d2489",
   "metadata": {},
   "outputs": [],
   "source": [
    "a = 'eer'"
   ]
  },
  {
   "cell_type": "code",
   "execution_count": 29,
   "id": "dd1d76f2",
   "metadata": {},
   "outputs": [
    {
     "data": {
      "text/plain": [
       "'career'"
      ]
     },
     "execution_count": 29,
     "metadata": {},
     "output_type": "execute_result"
    }
   ],
   "source": [
    "z + a"
   ]
  },
  {
   "cell_type": "code",
   "execution_count": 41,
   "id": "6839efcd",
   "metadata": {},
   "outputs": [],
   "source": [
    "b = 'Hello, '"
   ]
  },
  {
   "cell_type": "code",
   "execution_count": 42,
   "id": "a3b39c4f",
   "metadata": {},
   "outputs": [],
   "source": [
    "c = 'my name is Marilize'"
   ]
  },
  {
   "cell_type": "code",
   "execution_count": 43,
   "id": "d480b57e",
   "metadata": {},
   "outputs": [],
   "source": [
    "d = 'my surname is de Villiers'"
   ]
  },
  {
   "cell_type": "code",
   "execution_count": 44,
   "id": "c2de68f4",
   "metadata": {},
   "outputs": [
    {
     "data": {
      "text/plain": [
       "'Hello, my name is Marilize'"
      ]
     },
     "execution_count": 44,
     "metadata": {},
     "output_type": "execute_result"
    }
   ],
   "source": [
    "b + c"
   ]
  },
  {
   "cell_type": "code",
   "execution_count": 45,
   "id": "29dac7f5",
   "metadata": {},
   "outputs": [
    {
     "data": {
      "text/plain": [
       "'Hello, my surname is de Villiers'"
      ]
     },
     "execution_count": 45,
     "metadata": {},
     "output_type": "execute_result"
    }
   ],
   "source": [
    "b + d"
   ]
  },
  {
   "cell_type": "code",
   "execution_count": 40,
   "id": "5999d0b9",
   "metadata": {},
   "outputs": [
    {
     "data": {
      "text/plain": [
       "'Coding is funCoding is funCoding is funCoding is funCoding is funCoding is funCoding is funCoding is funCoding is funCoding is funCoding is funCoding is funCoding is funCoding is funCoding is funCoding is funCoding is funCoding is funCoding is funCoding is funCoding is funCoding is funCoding is funCoding is funCoding is funCoding is funCoding is funCoding is funCoding is funCoding is funCoding is funCoding is funCoding is funCoding is funCoding is funCoding is funCoding is funCoding is funCoding is funCoding is funCoding is funCoding is funCoding is funCoding is funCoding is funCoding is funCoding is funCoding is funCoding is funCoding is funCoding is funCoding is funCoding is funCoding is funCoding is funCoding is funCoding is funCoding is funCoding is funCoding is funCoding is funCoding is funCoding is funCoding is funCoding is funCoding is funCoding is funCoding is funCoding is funCoding is funCoding is funCoding is funCoding is funCoding is funCoding is funCoding is funCoding is funCoding is funCoding is funCoding is funCoding is funCoding is funCoding is funCoding is funCoding is funCoding is funCoding is funCoding is funCoding is funCoding is funCoding is funCoding is funCoding is funCoding is funCoding is funCoding is funCoding is funCoding is funCoding is funCoding is fun'"
      ]
     },
     "execution_count": 40,
     "metadata": {},
     "output_type": "execute_result"
    }
   ],
   "source": [
    "'Coding is fun' * 100"
   ]
  },
  {
   "cell_type": "code",
   "execution_count": null,
   "id": "7a5ec672",
   "metadata": {},
   "outputs": [],
   "source": []
  }
 ],
 "metadata": {
  "kernelspec": {
   "display_name": "Python 3 (ipykernel)",
   "language": "python",
   "name": "python3"
  },
  "language_info": {
   "codemirror_mode": {
    "name": "ipython",
    "version": 3
   },
   "file_extension": ".py",
   "mimetype": "text/x-python",
   "name": "python",
   "nbconvert_exporter": "python",
   "pygments_lexer": "ipython3",
   "version": "3.9.7"
  }
 },
 "nbformat": 4,
 "nbformat_minor": 5
}
